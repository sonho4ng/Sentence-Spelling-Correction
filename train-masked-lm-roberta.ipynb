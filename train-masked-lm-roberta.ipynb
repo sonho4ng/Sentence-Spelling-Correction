{
 "cells": [
  {
   "cell_type": "code",
   "execution_count": 1,
   "id": "0a105e97",
   "metadata": {
    "_cell_guid": "b1076dfc-b9ad-4769-8c92-a6c4dae69d19",
    "_uuid": "8f2839f25d086af736a60e9eeb907d3b93b6e0e5",
    "execution": {
     "iopub.execute_input": "2025-05-11T10:12:36.381668Z",
     "iopub.status.busy": "2025-05-11T10:12:36.381428Z",
     "iopub.status.idle": "2025-05-11T10:12:43.079193Z",
     "shell.execute_reply": "2025-05-11T10:12:43.078381Z"
    },
    "papermill": {
     "duration": 6.703276,
     "end_time": "2025-05-11T10:12:43.080432",
     "exception": false,
     "start_time": "2025-05-11T10:12:36.377156",
     "status": "completed"
    },
    "tags": []
   },
   "outputs": [
    {
     "data": {
      "text/html": [
       "<div>\n",
       "<style scoped>\n",
       "    .dataframe tbody tr th:only-of-type {\n",
       "        vertical-align: middle;\n",
       "    }\n",
       "\n",
       "    .dataframe tbody tr th {\n",
       "        vertical-align: top;\n",
       "    }\n",
       "\n",
       "    .dataframe thead th {\n",
       "        text-align: right;\n",
       "    }\n",
       "</style>\n",
       "<table border=\"1\" class=\"dataframe\">\n",
       "  <thead>\n",
       "    <tr style=\"text-align: right;\">\n",
       "      <th></th>\n",
       "      <th>ground_truth</th>\n",
       "      <th>corrupted</th>\n",
       "      <th>mask</th>\n",
       "    </tr>\n",
       "  </thead>\n",
       "  <tbody>\n",
       "    <tr>\n",
       "      <th>0</th>\n",
       "      <td>Đại diện CLB Hà Nội cho biết thủ môn Bùi Tiến ...</td>\n",
       "      <td>Đại diện CLB Hà Nội cho BIẾT thủ môn Bùi Tiến ...</td>\n",
       "      <td>000000100000000000100000</td>\n",
       "    </tr>\n",
       "    <tr>\n",
       "      <th>1</th>\n",
       "      <td>Đầu mùa giải vừa qua Bùi Tiến Dũng chính thức ...</td>\n",
       "      <td>Đầu mùa giải vừa qua Bùi Tiến Dũng cníhh thức ...</td>\n",
       "      <td>0000000010000000000000100</td>\n",
       "    </tr>\n",
       "    <tr>\n",
       "      <th>2</th>\n",
       "      <td>Thế nhưng tính đến nay Bùi Tiến Dũng vẫn chưa ...</td>\n",
       "      <td>Thế nhưng tính đến nay Bùi Tiến Dũng vẫn chưa ...</td>\n",
       "      <td>000000000000000000</td>\n",
       "    </tr>\n",
       "    <tr>\n",
       "      <th>3</th>\n",
       "      <td>Dù trước đó anh được HLV Park Hang Seo sử dụng...</td>\n",
       "      <td>Dù trước đó anh được HLV Park Hang So sử dụng ...</td>\n",
       "      <td>000000001000000000000000000</td>\n",
       "    </tr>\n",
       "    <tr>\n",
       "      <th>4</th>\n",
       "      <td>Bùi Tiến Dũng gặp chấn thương ở cổ tay nhưng c...</td>\n",
       "      <td>Bùi Tiến Dũng gặp chấn thương ở cổ tay nhưng c...</td>\n",
       "      <td>000000000000010000</td>\n",
       "    </tr>\n",
       "    <tr>\n",
       "      <th>...</th>\n",
       "      <td>...</td>\n",
       "      <td>...</td>\n",
       "      <td>...</td>\n",
       "    </tr>\n",
       "    <tr>\n",
       "      <th>99995</th>\n",
       "      <td>Mọi thứ cứ diễn ra lặng lẽ giống như tính cách...</td>\n",
       "      <td>Mọi thứ cứ diễn ra lặng lẽ Ciống NHƯ tính cách...</td>\n",
       "      <td>00000001100000000001</td>\n",
       "    </tr>\n",
       "    <tr>\n",
       "      <th>99996</th>\n",
       "      <td>HLV Hữu Thắng từng nhận xét Xuân Trường là mẫu...</td>\n",
       "      <td>HLV Hữu Thắng từng nhận xét Xuân Trường là mẫu...</td>\n",
       "      <td>00000000000000000000</td>\n",
       "    </tr>\n",
       "    <tr>\n",
       "      <th>99997</th>\n",
       "      <td>Thế nhưng Xuân Trường có thể tạo nên sự khác b...</td>\n",
       "      <td>TẾH nhưng Xuân Trường có thể tạo nên sự KHÁC b...</td>\n",
       "      <td>10000000010000001001</td>\n",
       "    </tr>\n",
       "    <tr>\n",
       "      <th>99998</th>\n",
       "      <td>Hơn ba năm trước Xuân Trường lần đầu xuất hiện...</td>\n",
       "      <td>Hơn ba năm trước Xuân Trường lần đầu xuất hiện...</td>\n",
       "      <td>0000000000000000</td>\n",
       "    </tr>\n",
       "    <tr>\n",
       "      <th>99999</th>\n",
       "      <td>Xuân Trường có đường kiến tạo cực kỳ đẳng cấp ...</td>\n",
       "      <td>Xuân Trường có đường kiến tạo cực kỳ đẳng ấp t...</td>\n",
       "      <td>000000000100000000000</td>\n",
       "    </tr>\n",
       "  </tbody>\n",
       "</table>\n",
       "<p>100000 rows × 3 columns</p>\n",
       "</div>"
      ],
      "text/plain": [
       "                                            ground_truth  \\\n",
       "0      Đại diện CLB Hà Nội cho biết thủ môn Bùi Tiến ...   \n",
       "1      Đầu mùa giải vừa qua Bùi Tiến Dũng chính thức ...   \n",
       "2      Thế nhưng tính đến nay Bùi Tiến Dũng vẫn chưa ...   \n",
       "3      Dù trước đó anh được HLV Park Hang Seo sử dụng...   \n",
       "4      Bùi Tiến Dũng gặp chấn thương ở cổ tay nhưng c...   \n",
       "...                                                  ...   \n",
       "99995  Mọi thứ cứ diễn ra lặng lẽ giống như tính cách...   \n",
       "99996  HLV Hữu Thắng từng nhận xét Xuân Trường là mẫu...   \n",
       "99997  Thế nhưng Xuân Trường có thể tạo nên sự khác b...   \n",
       "99998  Hơn ba năm trước Xuân Trường lần đầu xuất hiện...   \n",
       "99999  Xuân Trường có đường kiến tạo cực kỳ đẳng cấp ...   \n",
       "\n",
       "                                               corrupted  \\\n",
       "0      Đại diện CLB Hà Nội cho BIẾT thủ môn Bùi Tiến ...   \n",
       "1      Đầu mùa giải vừa qua Bùi Tiến Dũng cníhh thức ...   \n",
       "2      Thế nhưng tính đến nay Bùi Tiến Dũng vẫn chưa ...   \n",
       "3      Dù trước đó anh được HLV Park Hang So sử dụng ...   \n",
       "4      Bùi Tiến Dũng gặp chấn thương ở cổ tay nhưng c...   \n",
       "...                                                  ...   \n",
       "99995  Mọi thứ cứ diễn ra lặng lẽ Ciống NHƯ tính cách...   \n",
       "99996  HLV Hữu Thắng từng nhận xét Xuân Trường là mẫu...   \n",
       "99997  TẾH nhưng Xuân Trường có thể tạo nên sự KHÁC b...   \n",
       "99998  Hơn ba năm trước Xuân Trường lần đầu xuất hiện...   \n",
       "99999  Xuân Trường có đường kiến tạo cực kỳ đẳng ấp t...   \n",
       "\n",
       "                              mask  \n",
       "0         000000100000000000100000  \n",
       "1        0000000010000000000000100  \n",
       "2               000000000000000000  \n",
       "3      000000001000000000000000000  \n",
       "4               000000000000010000  \n",
       "...                            ...  \n",
       "99995         00000001100000000001  \n",
       "99996         00000000000000000000  \n",
       "99997         10000000010000001001  \n",
       "99998             0000000000000000  \n",
       "99999        000000000100000000000  \n",
       "\n",
       "[100000 rows x 3 columns]"
      ]
     },
     "execution_count": 1,
     "metadata": {},
     "output_type": "execute_result"
    }
   ],
   "source": [
    "import pandas as pd \n",
    "import numpy as np\n",
    "import torch\n",
    "\n",
    "data = pd.read_csv(\"/kaggle/input/luat123/error_dataset.csv\")\n",
    "data"
   ]
  },
  {
   "cell_type": "code",
   "execution_count": 2,
   "id": "c0506f2b",
   "metadata": {
    "execution": {
     "iopub.execute_input": "2025-05-11T10:12:43.088035Z",
     "iopub.status.busy": "2025-05-11T10:12:43.087805Z",
     "iopub.status.idle": "2025-05-11T10:12:43.090841Z",
     "shell.execute_reply": "2025-05-11T10:12:43.090317Z"
    },
    "papermill": {
     "duration": 0.00789,
     "end_time": "2025-05-11T10:12:43.091866",
     "exception": false,
     "start_time": "2025-05-11T10:12:43.083976",
     "status": "completed"
    },
    "tags": []
   },
   "outputs": [],
   "source": [
    "# Dataset trả về input_ids (normal thì ids vẫn như thế, error thì ids =1), mask, label (normal thì là -100, error thì là ids của ground truth)\n",
    "\n"
   ]
  },
  {
   "cell_type": "code",
   "execution_count": 3,
   "id": "4ac28850",
   "metadata": {
    "execution": {
     "iopub.execute_input": "2025-05-11T10:12:43.099607Z",
     "iopub.status.busy": "2025-05-11T10:12:43.099405Z",
     "iopub.status.idle": "2025-05-11T10:12:43.106585Z",
     "shell.execute_reply": "2025-05-11T10:12:43.105891Z"
    },
    "papermill": {
     "duration": 0.012113,
     "end_time": "2025-05-11T10:12:43.107753",
     "exception": false,
     "start_time": "2025-05-11T10:12:43.095640",
     "status": "completed"
    },
    "tags": []
   },
   "outputs": [],
   "source": [
    "import torch\n",
    "import random\n",
    "\n",
    "def preprocess_for_mlm(row, tokenizer, max_len=64, random_mask_ratio=0.05):\n",
    "    corrupted_words = row[\"corrupted\"].split()\n",
    "    ground_truth_words = row[\"ground_truth\"].split()\n",
    "    mask_flags = list(map(int, row[\"mask\"].strip()))\n",
    "\n",
    "    assert len(corrupted_words) == len(ground_truth_words) == len(mask_flags)\n",
    "\n",
    "    # ✅ Thêm random mask (chỉ tại các vị trí chưa lỗi)\n",
    "    total_words = len(mask_flags)\n",
    "    available_positions = [i for i in range(total_words) if mask_flags[i] == 0]\n",
    "    num_random_mask = max(1, int(random_mask_ratio * total_words))\n",
    "    random_positions = random.sample(available_positions, min(num_random_mask, len(available_positions)))\n",
    "\n",
    "    for pos in random_positions:\n",
    "        mask_flags[pos] = 2  # Đánh dấu riêng để phân biệt random vs lỗi thật\n",
    "\n",
    "    # Tokenize corrupted sentence\n",
    "    encoding = tokenizer(corrupted_words,\n",
    "                         is_split_into_words=True,\n",
    "                         return_tensors=\"pt\",\n",
    "                         padding=\"max_length\",\n",
    "                         truncation=True,\n",
    "                         max_length=max_len)\n",
    "\n",
    "    word_ids = encoding.word_ids(batch_index=0)\n",
    "    input_ids = encoding[\"input_ids\"].squeeze(0).clone()\n",
    "    attention_mask = encoding[\"attention_mask\"].squeeze(0)\n",
    "    labels = torch.full_like(input_ids, -100)\n",
    "\n",
    "    for idx, word_idx in enumerate(word_ids):\n",
    "        if word_idx is None:\n",
    "            continue\n",
    "\n",
    "        if mask_flags[word_idx] in [1, 2]:\n",
    "            is_first = (idx == 0 or word_ids[idx - 1] != word_idx)\n",
    "            if is_first:\n",
    "                input_ids[idx] = tokenizer.mask_token_id\n",
    "                tokenized = tokenizer.tokenize(ground_truth_words[word_idx])\n",
    "                if tokenized:\n",
    "                    labels[idx] = tokenizer.convert_tokens_to_ids(tokenized[0])\n",
    "\n",
    "    return {\n",
    "        \"input_ids\": input_ids,\n",
    "        \"attention_mask\": attention_mask,\n",
    "        \"labels\": labels\n",
    "    }\n"
   ]
  },
  {
   "cell_type": "code",
   "execution_count": 4,
   "id": "2d638487",
   "metadata": {
    "execution": {
     "iopub.execute_input": "2025-05-11T10:12:43.114391Z",
     "iopub.status.busy": "2025-05-11T10:12:43.114182Z",
     "iopub.status.idle": "2025-05-11T10:12:43.118591Z",
     "shell.execute_reply": "2025-05-11T10:12:43.118102Z"
    },
    "papermill": {
     "duration": 0.008864,
     "end_time": "2025-05-11T10:12:43.119564",
     "exception": false,
     "start_time": "2025-05-11T10:12:43.110700",
     "status": "completed"
    },
    "tags": []
   },
   "outputs": [],
   "source": [
    "from torch.utils.data import Dataset\n",
    "\n",
    "class MLMDataset(Dataset):\n",
    "    def __init__(self, dataframe, tokenizer, max_len=64, random_mask_ratio=0.05):\n",
    "        self.dataframe = dataframe.reset_index(drop=True)\n",
    "        self.tokenizer = tokenizer\n",
    "        self.max_len = max_len\n",
    "        self.random_mask_ratio = random_mask_ratio\n",
    "\n",
    "    def __len__(self):\n",
    "        return len(self.dataframe)\n",
    "\n",
    "    def __getitem__(self, idx):\n",
    "        row = self.dataframe.iloc[idx]\n",
    "        processed = preprocess_for_mlm(\n",
    "            row,\n",
    "            tokenizer=self.tokenizer,\n",
    "            max_len=self.max_len,\n",
    "            random_mask_ratio=self.random_mask_ratio\n",
    "        )\n",
    "        return {\n",
    "            \"input_ids\": processed[\"input_ids\"],\n",
    "            \"attention_mask\": processed[\"attention_mask\"],\n",
    "            \"labels\": processed[\"labels\"]\n",
    "        }\n"
   ]
  },
  {
   "cell_type": "code",
   "execution_count": 5,
   "id": "8c264d7e",
   "metadata": {
    "execution": {
     "iopub.execute_input": "2025-05-11T10:12:43.127387Z",
     "iopub.status.busy": "2025-05-11T10:12:43.127187Z",
     "iopub.status.idle": "2025-05-11T10:12:47.258283Z",
     "shell.execute_reply": "2025-05-11T10:12:47.257690Z"
    },
    "papermill": {
     "duration": 4.135939,
     "end_time": "2025-05-11T10:12:47.259629",
     "exception": false,
     "start_time": "2025-05-11T10:12:43.123690",
     "status": "completed"
    },
    "tags": []
   },
   "outputs": [],
   "source": [
    "from transformers import AutoModelForMaskedLM, AutoTokenizer\n",
    "from torch.utils.data import DataLoader\n",
    "import torch\n",
    "import torch.nn.functional as F\n",
    "import torch.optim as optim\n",
    "from tqdm import tqdm"
   ]
  },
  {
   "cell_type": "code",
   "execution_count": 6,
   "id": "62ac5ef2",
   "metadata": {
    "execution": {
     "iopub.execute_input": "2025-05-11T10:12:47.266802Z",
     "iopub.status.busy": "2025-05-11T10:12:47.266428Z",
     "iopub.status.idle": "2025-05-11T10:12:47.280411Z",
     "shell.execute_reply": "2025-05-11T10:12:47.279907Z"
    },
    "papermill": {
     "duration": 0.018611,
     "end_time": "2025-05-11T10:12:47.281443",
     "exception": false,
     "start_time": "2025-05-11T10:12:47.262832",
     "status": "completed"
    },
    "tags": []
   },
   "outputs": [],
   "source": [
    "from sklearn.model_selection import train_test_split\n",
    "\n"
   ]
  },
  {
   "cell_type": "code",
   "execution_count": 7,
   "id": "970981d2",
   "metadata": {
    "execution": {
     "iopub.execute_input": "2025-05-11T10:12:47.288065Z",
     "iopub.status.busy": "2025-05-11T10:12:47.287839Z",
     "iopub.status.idle": "2025-05-11T10:13:12.000868Z",
     "shell.execute_reply": "2025-05-11T10:13:12.000304Z"
    },
    "papermill": {
     "duration": 24.717886,
     "end_time": "2025-05-11T10:13:12.002352",
     "exception": false,
     "start_time": "2025-05-11T10:12:47.284466",
     "status": "completed"
    },
    "tags": []
   },
   "outputs": [
    {
     "data": {
      "application/vnd.jupyter.widget-view+json": {
       "model_id": "6054231f9eb54056a9dafa6340aa6712",
       "version_major": 2,
       "version_minor": 0
      },
      "text/plain": [
       "tokenizer_config.json:   0%|          | 0.00/25.0 [00:00<?, ?B/s]"
      ]
     },
     "metadata": {},
     "output_type": "display_data"
    },
    {
     "data": {
      "application/vnd.jupyter.widget-view+json": {
       "model_id": "920296c8fb67453ba7a608d58769d564",
       "version_major": 2,
       "version_minor": 0
      },
      "text/plain": [
       "config.json:   0%|          | 0.00/615 [00:00<?, ?B/s]"
      ]
     },
     "metadata": {},
     "output_type": "display_data"
    },
    {
     "data": {
      "application/vnd.jupyter.widget-view+json": {
       "model_id": "3340bf36b08b43f585861dd046c6e9bf",
       "version_major": 2,
       "version_minor": 0
      },
      "text/plain": [
       "sentencepiece.bpe.model:   0%|          | 0.00/5.07M [00:00<?, ?B/s]"
      ]
     },
     "metadata": {},
     "output_type": "display_data"
    },
    {
     "data": {
      "application/vnd.jupyter.widget-view+json": {
       "model_id": "5d90647129e24af38d025e92c96cdd6f",
       "version_major": 2,
       "version_minor": 0
      },
      "text/plain": [
       "tokenizer.json:   0%|          | 0.00/9.10M [00:00<?, ?B/s]"
      ]
     },
     "metadata": {},
     "output_type": "display_data"
    },
    {
     "name": "stderr",
     "output_type": "stream",
     "text": [
      "2025-05-11 10:12:57.861817: E external/local_xla/xla/stream_executor/cuda/cuda_fft.cc:477] Unable to register cuFFT factory: Attempting to register factory for plugin cuFFT when one has already been registered\n",
      "WARNING: All log messages before absl::InitializeLog() is called are written to STDERR\n",
      "E0000 00:00:1746958378.055878      19 cuda_dnn.cc:8310] Unable to register cuDNN factory: Attempting to register factory for plugin cuDNN when one has already been registered\n",
      "E0000 00:00:1746958378.110112      19 cuda_blas.cc:1418] Unable to register cuBLAS factory: Attempting to register factory for plugin cuBLAS when one has already been registered\n",
      "Xet Storage is enabled for this repo, but the 'hf_xet' package is not installed. Falling back to regular HTTP download. For better performance, install the package with: `pip install huggingface_hub[hf_xet]` or `pip install hf_xet`\n"
     ]
    },
    {
     "data": {
      "application/vnd.jupyter.widget-view+json": {
       "model_id": "9d7a384aa2de46fa8aec6d44763afacc",
       "version_major": 2,
       "version_minor": 0
      },
      "text/plain": [
       "model.safetensors:   0%|          | 0.00/1.12G [00:00<?, ?B/s]"
      ]
     },
     "metadata": {},
     "output_type": "display_data"
    },
    {
     "name": "stderr",
     "output_type": "stream",
     "text": [
      "Some weights of the model checkpoint at xlm-roberta-base were not used when initializing XLMRobertaForMaskedLM: ['roberta.pooler.dense.bias', 'roberta.pooler.dense.weight']\n",
      "- This IS expected if you are initializing XLMRobertaForMaskedLM from the checkpoint of a model trained on another task or with another architecture (e.g. initializing a BertForSequenceClassification model from a BertForPreTraining model).\n",
      "- This IS NOT expected if you are initializing XLMRobertaForMaskedLM from the checkpoint of a model that you expect to be exactly identical (initializing a BertForSequenceClassification model from a BertForSequenceClassification model).\n"
     ]
    }
   ],
   "source": [
    "tokenizer = AutoTokenizer.from_pretrained(\"xlm-roberta-base\")\n",
    "model = AutoModelForMaskedLM.from_pretrained(\"xlm-roberta-base\")\n",
    "train_df, val_df = train_test_split(data, test_size=10000, random_state=42)\n",
    "train_dataset = MLMDataset(train_df, tokenizer)\n",
    "val_dataset = MLMDataset(val_df, tokenizer)\n",
    "train_loader = DataLoader(train_dataset, batch_size=16, shuffle=True)\n",
    "val_loader = DataLoader(val_dataset, batch_size=16, shuffle=True)"
   ]
  },
  {
   "cell_type": "code",
   "execution_count": 8,
   "id": "c56f5865",
   "metadata": {
    "execution": {
     "iopub.execute_input": "2025-05-11T10:13:12.011103Z",
     "iopub.status.busy": "2025-05-11T10:13:12.010603Z",
     "iopub.status.idle": "2025-05-11T10:13:12.031698Z",
     "shell.execute_reply": "2025-05-11T10:13:12.030863Z"
    },
    "papermill": {
     "duration": 0.02634,
     "end_time": "2025-05-11T10:13:12.032826",
     "exception": false,
     "start_time": "2025-05-11T10:13:12.006486",
     "status": "completed"
    },
    "tags": []
   },
   "outputs": [
    {
     "name": "stdout",
     "output_type": "stream",
     "text": [
      "🔢 input_ids:\n",
      " tensor([     0, 250001,    238,   5692, 250001,   6117, 250001,  52249,  24937,\n",
      "          6122, 250001,   4933,    127,  18973,   3839,   3178,  16859,   5578,\n",
      "          2261,    524,   2931,  13671,   4797,  21838,   3178,   7173,    524,\n",
      "          6745,   5152,   2812,  11042,   6800,   1451,   2812,  12107,   7217,\n",
      "         53210,  10284,      2,      1,      1,      1,      1,      1,      1,\n",
      "             1,      1,      1,      1,      1,      1,      1,      1,      1,\n",
      "             1,      1,      1,      1,      1,      1,      1,      1,      1,\n",
      "             1])\n",
      "\n",
      "🟢 attention_mask:\n",
      " tensor([1, 1, 1, 1, 1, 1, 1, 1, 1, 1, 1, 1, 1, 1, 1, 1, 1, 1, 1, 1, 1, 1, 1, 1,\n",
      "        1, 1, 1, 1, 1, 1, 1, 1, 1, 1, 1, 1, 1, 1, 1, 0, 0, 0, 0, 0, 0, 0, 0, 0,\n",
      "        0, 0, 0, 0, 0, 0, 0, 0, 0, 0, 0, 0, 0, 0, 0, 0])\n",
      "\n",
      "✅ labels:\n",
      " tensor([  -100, 149432,   -100,   -100,   9609,   -100,   2334,   -100,   -100,\n",
      "          -100,   6745,   -100,   -100,   -100,   -100,   -100,   -100,   -100,\n",
      "          -100,   -100,   -100,   -100,   -100,   -100,   -100,   -100,   -100,\n",
      "          -100,   -100,   -100,   -100,   -100,   -100,   -100,   -100,   -100,\n",
      "          -100,   -100,   -100,   -100,   -100,   -100,   -100,   -100,   -100,\n",
      "          -100,   -100,   -100,   -100,   -100,   -100,   -100,   -100,   -100,\n",
      "          -100,   -100,   -100,   -100,   -100,   -100,   -100,   -100,   -100,\n",
      "          -100])\n",
      "\n",
      "📝 Decoded input_ids:\n",
      " <s><mask>c phẩm<mask> thi<mask>ải đảm bảo<mask>ính chân thực chính xác khách quan có định hướng tư tưởng chính trị có tính phát hiện phương pháp thể hiện sáng tạo hấp dẫn</s><pad><pad><pad><pad><pad><pad><pad><pad><pad><pad><pad><pad><pad><pad><pad><pad><pad><pad><pad><pad><pad><pad><pad><pad><pad>\n",
      "🎯 Decoded labels (hiển thị token được học):\n",
      "Pos 1: Token = Tác\n",
      "Pos 4: Token = dự\n",
      "Pos 6: Token = phải\n",
      "Pos 10: Token = tính\n"
     ]
    }
   ],
   "source": [
    "# Lấy mẫu đầu tiên\n",
    "sample = val_dataset[0]\n",
    "\n",
    "# In tensor thô\n",
    "print(\"🔢 input_ids:\\n\", sample[\"input_ids\"])\n",
    "print(\"\\n🟢 attention_mask:\\n\", sample[\"attention_mask\"])\n",
    "print(\"\\n✅ labels:\\n\", sample[\"labels\"])\n",
    "\n",
    "# In dạng văn bản nếu muốn dễ đọc hơn\n",
    "print(\"\\n📝 Decoded input_ids:\\n\", tokenizer.decode(sample[\"input_ids\"], skip_special_tokens=False))\n",
    "print(\"🎯 Decoded labels (hiển thị token được học):\")\n",
    "\n",
    "# Chỉ hiển thị các vị trí có label != -100\n",
    "for i, label_id in enumerate(sample[\"labels\"]):\n",
    "    if label_id != -100:\n",
    "        print(f\"Pos {i}: Token = {tokenizer.decode([label_id])}\")\n"
   ]
  },
  {
   "cell_type": "code",
   "execution_count": 9,
   "id": "a7adc6e3",
   "metadata": {
    "execution": {
     "iopub.execute_input": "2025-05-11T10:13:12.040812Z",
     "iopub.status.busy": "2025-05-11T10:13:12.040604Z",
     "iopub.status.idle": "2025-05-11T10:13:12.044727Z",
     "shell.execute_reply": "2025-05-11T10:13:12.044164Z"
    },
    "papermill": {
     "duration": 0.009209,
     "end_time": "2025-05-11T10:13:12.045692",
     "exception": false,
     "start_time": "2025-05-11T10:13:12.036483",
     "status": "completed"
    },
    "tags": []
   },
   "outputs": [
    {
     "name": "stdout",
     "output_type": "stream",
     "text": [
      "Dác phẩm dự thi paải đảm bảo iính chân thực chính xác khách quan có định hướng tư tưởng chính trị có tính phát hiện phương pháp thể hiện sáng tạo hấp dẫn\n",
      "Tác phẩm dự thi phải đảm bảo tính chân thực chính xác khách quan có định hướng tư tưởng chính trị có tính phát hiện phương pháp thể hiện sáng tạo hấp dẫn\n",
      "100010010000000000000000000000000\n"
     ]
    }
   ],
   "source": [
    "print(val_df.iloc[0][\"corrupted\"])\n",
    "print(val_df.iloc[0][\"ground_truth\"])\n",
    "print(val_df.iloc[0][\"mask\"])\n"
   ]
  },
  {
   "cell_type": "code",
   "execution_count": 10,
   "id": "f643f6be",
   "metadata": {
    "execution": {
     "iopub.execute_input": "2025-05-11T10:13:12.053821Z",
     "iopub.status.busy": "2025-05-11T10:13:12.053631Z",
     "iopub.status.idle": "2025-05-11T15:50:39.585846Z",
     "shell.execute_reply": "2025-05-11T15:50:39.584965Z"
    },
    "papermill": {
     "duration": 20247.537957,
     "end_time": "2025-05-11T15:50:39.587257",
     "exception": false,
     "start_time": "2025-05-11T10:13:12.049300",
     "status": "completed"
    },
    "tags": []
   },
   "outputs": [
    {
     "name": "stderr",
     "output_type": "stream",
     "text": [
      "/tmp/ipykernel_19/3806007330.py:10: FutureWarning: `torch.cuda.amp.GradScaler(args...)` is deprecated. Please use `torch.amp.GradScaler('cuda', args...)` instead.\n",
      "  scaler = GradScaler()\n",
      "Epoch 1 [Train]:   0%|          | 0/5625 [00:00<?, ?it/s]/tmp/ipykernel_19/3806007330.py:28: FutureWarning: `torch.cuda.amp.autocast(args...)` is deprecated. Please use `torch.amp.autocast('cuda', args...)` instead.\n",
      "  with autocast():\n",
      "Epoch 1 [Train]: 100%|██████████| 5625/5625 [32:35<00:00,  2.88it/s, loss=1.3]\n"
     ]
    },
    {
     "name": "stdout",
     "output_type": "stream",
     "text": [
      "✅ Epoch 1 Train Loss: 1.8012\n"
     ]
    },
    {
     "name": "stderr",
     "output_type": "stream",
     "text": [
      "Epoch 1 [Val]:   0%|          | 0/625 [00:00<?, ?it/s]/tmp/ipykernel_19/3806007330.py:51: FutureWarning: `torch.cuda.amp.autocast(args...)` is deprecated. Please use `torch.amp.autocast('cuda', args...)` instead.\n",
      "  with autocast():\n",
      "Epoch 1 [Val]: 100%|██████████| 625/625 [01:09<00:00,  8.93it/s]\n"
     ]
    },
    {
     "name": "stdout",
     "output_type": "stream",
     "text": [
      "🧪 Epoch 1 Val Loss: 1.4104\n",
      "✅ Model improved and saved to mlm_best_model\n"
     ]
    },
    {
     "name": "stderr",
     "output_type": "stream",
     "text": [
      "Epoch 2 [Train]: 100%|██████████| 5625/5625 [32:33<00:00,  2.88it/s, loss=1.89]\n"
     ]
    },
    {
     "name": "stdout",
     "output_type": "stream",
     "text": [
      "✅ Epoch 2 Train Loss: 1.4323\n"
     ]
    },
    {
     "name": "stderr",
     "output_type": "stream",
     "text": [
      "Epoch 2 [Val]: 100%|██████████| 625/625 [01:09<00:00,  8.95it/s]\n"
     ]
    },
    {
     "name": "stdout",
     "output_type": "stream",
     "text": [
      "🧪 Epoch 2 Val Loss: 1.3203\n",
      "✅ Model improved and saved to mlm_best_model\n"
     ]
    },
    {
     "name": "stderr",
     "output_type": "stream",
     "text": [
      "Epoch 3 [Train]: 100%|██████████| 5625/5625 [32:32<00:00,  2.88it/s, loss=1.7]\n"
     ]
    },
    {
     "name": "stdout",
     "output_type": "stream",
     "text": [
      "✅ Epoch 3 Train Loss: 1.2745\n"
     ]
    },
    {
     "name": "stderr",
     "output_type": "stream",
     "text": [
      "Epoch 3 [Val]: 100%|██████████| 625/625 [01:10<00:00,  8.90it/s]\n"
     ]
    },
    {
     "name": "stdout",
     "output_type": "stream",
     "text": [
      "🧪 Epoch 3 Val Loss: 1.2907\n",
      "✅ Model improved and saved to mlm_best_model\n"
     ]
    },
    {
     "name": "stderr",
     "output_type": "stream",
     "text": [
      "Epoch 4 [Train]: 100%|██████████| 5625/5625 [32:32<00:00,  2.88it/s, loss=1.44]\n"
     ]
    },
    {
     "name": "stdout",
     "output_type": "stream",
     "text": [
      "✅ Epoch 4 Train Loss: 1.1639\n"
     ]
    },
    {
     "name": "stderr",
     "output_type": "stream",
     "text": [
      "Epoch 4 [Val]: 100%|██████████| 625/625 [01:09<00:00,  8.94it/s]\n"
     ]
    },
    {
     "name": "stdout",
     "output_type": "stream",
     "text": [
      "🧪 Epoch 4 Val Loss: 1.2856\n",
      "✅ Model improved and saved to mlm_best_model\n"
     ]
    },
    {
     "name": "stderr",
     "output_type": "stream",
     "text": [
      "Epoch 5 [Train]: 100%|██████████| 5625/5625 [32:31<00:00,  2.88it/s, loss=1.36]\n"
     ]
    },
    {
     "name": "stdout",
     "output_type": "stream",
     "text": [
      "✅ Epoch 5 Train Loss: 1.0880\n"
     ]
    },
    {
     "name": "stderr",
     "output_type": "stream",
     "text": [
      "Epoch 5 [Val]: 100%|██████████| 625/625 [01:09<00:00,  8.95it/s]\n"
     ]
    },
    {
     "name": "stdout",
     "output_type": "stream",
     "text": [
      "🧪 Epoch 5 Val Loss: 1.2481\n",
      "✅ Model improved and saved to mlm_best_model\n"
     ]
    },
    {
     "name": "stderr",
     "output_type": "stream",
     "text": [
      "Epoch 6 [Train]: 100%|██████████| 5625/5625 [32:31<00:00,  2.88it/s, loss=0.989]\n"
     ]
    },
    {
     "name": "stdout",
     "output_type": "stream",
     "text": [
      "✅ Epoch 6 Train Loss: 1.0182\n"
     ]
    },
    {
     "name": "stderr",
     "output_type": "stream",
     "text": [
      "Epoch 6 [Val]: 100%|██████████| 625/625 [01:09<00:00,  8.94it/s]\n"
     ]
    },
    {
     "name": "stdout",
     "output_type": "stream",
     "text": [
      "🧪 Epoch 6 Val Loss: 1.2545\n"
     ]
    },
    {
     "name": "stderr",
     "output_type": "stream",
     "text": [
      "Epoch 7 [Train]: 100%|██████████| 5625/5625 [32:32<00:00,  2.88it/s, loss=0.751]\n"
     ]
    },
    {
     "name": "stdout",
     "output_type": "stream",
     "text": [
      "✅ Epoch 7 Train Loss: 0.9614\n"
     ]
    },
    {
     "name": "stderr",
     "output_type": "stream",
     "text": [
      "Epoch 7 [Val]: 100%|██████████| 625/625 [01:10<00:00,  8.90it/s]\n"
     ]
    },
    {
     "name": "stdout",
     "output_type": "stream",
     "text": [
      "🧪 Epoch 7 Val Loss: 1.2691\n"
     ]
    },
    {
     "name": "stderr",
     "output_type": "stream",
     "text": [
      "Epoch 8 [Train]: 100%|██████████| 5625/5625 [32:32<00:00,  2.88it/s, loss=1.37]\n"
     ]
    },
    {
     "name": "stdout",
     "output_type": "stream",
     "text": [
      "✅ Epoch 8 Train Loss: 0.9178\n"
     ]
    },
    {
     "name": "stderr",
     "output_type": "stream",
     "text": [
      "Epoch 8 [Val]: 100%|██████████| 625/625 [01:09<00:00,  8.94it/s]\n"
     ]
    },
    {
     "name": "stdout",
     "output_type": "stream",
     "text": [
      "🧪 Epoch 8 Val Loss: 1.2625\n"
     ]
    },
    {
     "name": "stderr",
     "output_type": "stream",
     "text": [
      "Epoch 9 [Train]: 100%|██████████| 5625/5625 [32:32<00:00,  2.88it/s, loss=1.13]\n"
     ]
    },
    {
     "name": "stdout",
     "output_type": "stream",
     "text": [
      "✅ Epoch 9 Train Loss: 0.8776\n"
     ]
    },
    {
     "name": "stderr",
     "output_type": "stream",
     "text": [
      "Epoch 9 [Val]: 100%|██████████| 625/625 [01:09<00:00,  8.94it/s]\n"
     ]
    },
    {
     "name": "stdout",
     "output_type": "stream",
     "text": [
      "🧪 Epoch 9 Val Loss: 1.2556\n"
     ]
    },
    {
     "name": "stderr",
     "output_type": "stream",
     "text": [
      "Epoch 10 [Train]: 100%|██████████| 5625/5625 [32:32<00:00,  2.88it/s, loss=0.563]\n"
     ]
    },
    {
     "name": "stdout",
     "output_type": "stream",
     "text": [
      "✅ Epoch 10 Train Loss: 0.8422\n"
     ]
    },
    {
     "name": "stderr",
     "output_type": "stream",
     "text": [
      "Epoch 10 [Val]: 100%|██████████| 625/625 [01:09<00:00,  8.93it/s]"
     ]
    },
    {
     "name": "stdout",
     "output_type": "stream",
     "text": [
      "🧪 Epoch 10 Val Loss: 1.2567\n"
     ]
    },
    {
     "name": "stderr",
     "output_type": "stream",
     "text": [
      "\n"
     ]
    }
   ],
   "source": [
    "import os\n",
    "import torch\n",
    "import torch.optim as optim\n",
    "from torch.cuda.amp import autocast, GradScaler\n",
    "from tqdm import tqdm\n",
    "\n",
    "device = torch.device(\"cuda\" if torch.cuda.is_available() else \"cpu\")\n",
    "model.to(device)\n",
    "optimizer = optim.AdamW(model.parameters(), lr=1e-5, weight_decay=0.001)\n",
    "scaler = GradScaler()\n",
    "\n",
    "save_path = \"mlm_best_model\"\n",
    "os.makedirs(save_path, exist_ok=True)\n",
    "best_val_loss = float(\"inf\")\n",
    "\n",
    "epochs = 10\n",
    "for epoch in range(epochs):\n",
    "    model.train()\n",
    "    total_loss = 0\n",
    "    progress = tqdm(train_loader, desc=f\"Epoch {epoch+1} [Train]\")\n",
    "\n",
    "    for batch in progress:\n",
    "        input_ids = batch[\"input_ids\"].to(device)\n",
    "        attention_mask = batch[\"attention_mask\"].to(device)\n",
    "        labels = batch[\"labels\"].to(device)\n",
    "\n",
    "        optimizer.zero_grad()\n",
    "        with autocast():\n",
    "            outputs = model(input_ids=input_ids, attention_mask=attention_mask, labels=labels)\n",
    "            loss = outputs.loss\n",
    "\n",
    "        scaler.scale(loss).backward()\n",
    "        scaler.step(optimizer)\n",
    "        scaler.update()\n",
    "\n",
    "        total_loss += loss.item()\n",
    "        progress.set_postfix(loss=loss.item())\n",
    "\n",
    "    avg_train_loss = total_loss / len(train_loader)\n",
    "    print(f\"✅ Epoch {epoch+1} Train Loss: {avg_train_loss:.4f}\")\n",
    "\n",
    "    # Evaluation\n",
    "    model.eval()\n",
    "    val_loss = 0.0\n",
    "    with torch.no_grad():\n",
    "        for batch in tqdm(val_loader, desc=f\"Epoch {epoch+1} [Val]\"):\n",
    "            input_ids = batch[\"input_ids\"].to(device)\n",
    "            attention_mask = batch[\"attention_mask\"].to(device)\n",
    "            labels = batch[\"labels\"].to(device)\n",
    "\n",
    "            with autocast():\n",
    "                outputs = model(input_ids=input_ids, attention_mask=attention_mask, labels=labels)\n",
    "                val_loss += outputs.loss.item()\n",
    "\n",
    "    avg_val_loss = val_loss / len(val_loader)\n",
    "    print(f\"🧪 Epoch {epoch+1} Val Loss: {avg_val_loss:.4f}\")\n",
    "\n",
    "    # Save best model\n",
    "    if avg_val_loss < best_val_loss:\n",
    "        best_val_loss = avg_val_loss\n",
    "        model.save_pretrained(save_path)\n",
    "        tokenizer.save_pretrained(save_path)\n",
    "        print(f\"✅ Model improved and saved to {save_path}\")\n"
   ]
  },
  {
   "cell_type": "code",
   "execution_count": 11,
   "id": "10917a64",
   "metadata": {
    "execution": {
     "iopub.execute_input": "2025-05-11T15:50:49.744677Z",
     "iopub.status.busy": "2025-05-11T15:50:49.743942Z",
     "iopub.status.idle": "2025-05-11T15:50:49.754619Z",
     "shell.execute_reply": "2025-05-11T15:50:49.754078Z"
    },
    "papermill": {
     "duration": 5.191426,
     "end_time": "2025-05-11T15:50:49.755633",
     "exception": false,
     "start_time": "2025-05-11T15:50:44.564207",
     "status": "completed"
    },
    "tags": []
   },
   "outputs": [],
   "source": [
    "import torch\n",
    "from difflib import SequenceMatcher\n",
    "\n",
    "# Levenshtein distance (using SequenceMatcher ratio-based proxy)\n",
    "def levenshtein_distance(s1, s2):\n",
    "    return int((1 - SequenceMatcher(None, s1, s2).ratio()) * max(len(s1), len(s2)))\n",
    "def split_label(mask_string):\n",
    "    return [int(char) for char in mask_string.strip()]\n",
    "# Corrected compute_topk_accuracy function\n",
    "def compute_topk_accuracy(model, tokenizer, val_df, top_k=10, max_len=128, device='cuda'):\n",
    "    model.to(device)\n",
    "    model.eval()\n",
    "\n",
    "    acc1_total = acc5_total = acc10_total = acc20_total = total_tokens = 0\n",
    "\n",
    "    for _, row in val_df.iterrows():\n",
    "        corrupted_tokens = row[\"corrupted\"].strip().split()\n",
    "        error_flags = list(map(int, list(row[\"mask\"].strip())))\n",
    "        ground_truth_tokens = row[\"ground_truth\"].strip().split()\n",
    "\n",
    "        # Prepare masked input\n",
    "        masked_tokens = [tokenizer.mask_token if flag else tok for tok, flag in zip(corrupted_tokens, error_flags)]\n",
    "        masked_text = \" \".join(masked_tokens)\n",
    "\n",
    "        # Tokenize\n",
    "        inputs = tokenizer(masked_text, return_tensors=\"pt\", max_length=max_len,\n",
    "                           padding=\"max_length\", truncation=True).to(device)\n",
    "        word_ids = tokenizer(masked_text, return_tensors=None, max_length=max_len,\n",
    "                             padding=\"max_length\", truncation=True).word_ids()\n",
    "\n",
    "        with torch.no_grad():\n",
    "            logits = model(**inputs).logits\n",
    "\n",
    "        input_ids = inputs[\"input_ids\"][0]\n",
    "        printed_words = set()\n",
    "\n",
    "        for token_idx, word_idx in enumerate(word_ids):\n",
    "            if word_idx is None or word_idx in printed_words or error_flags[word_idx] != 1:\n",
    "                continue\n",
    "\n",
    "            printed_words.add(word_idx)\n",
    "            token_logits = logits[0, token_idx]\n",
    "            topk_ids = torch.topk(token_logits, k=20).indices.tolist()\n",
    "            topk_tokens = tokenizer.convert_ids_to_tokens(topk_ids)\n",
    "            topk_tokens = [t.lstrip(\"▁\").lower() for t in topk_tokens]\n",
    "            gt_token = ground_truth_tokens[word_idx].lower()\n",
    "\n",
    "            acc1_total += int(gt_token == topk_tokens[0])\n",
    "            acc5_total += int(any(levenshtein_distance(gt_token, tok) <= 1 for tok in topk_tokens[:5]))\n",
    "            acc10_total += int(any(levenshtein_distance(gt_token, tok) <= 1 for tok in topk_tokens[:10]))\n",
    "            acc20_total += int(any(levenshtein_distance(gt_token, tok) <= 1 for tok in topk_tokens[:20]))\n",
    "            total_tokens += 1\n",
    "\n",
    "    acc1 = acc1_total / total_tokens if total_tokens > 0 else 0\n",
    "    acc5 = acc5_total / total_tokens if total_tokens > 0 else 0\n",
    "    acc10 = acc10_total / total_tokens if total_tokens > 0 else 0\n",
    "    acc20 = acc20_total / total_tokens if total_tokens > 0 else 0\n",
    "\n",
    "    return acc1, acc5, acc10, acc20\n"
   ]
  },
  {
   "cell_type": "code",
   "execution_count": 12,
   "id": "e3d72b53",
   "metadata": {
    "execution": {
     "iopub.execute_input": "2025-05-11T15:51:00.030749Z",
     "iopub.status.busy": "2025-05-11T15:51:00.030249Z",
     "iopub.status.idle": "2025-05-11T15:53:52.988834Z",
     "shell.execute_reply": "2025-05-11T15:53:52.988152Z"
    },
    "papermill": {
     "duration": 183.088671,
     "end_time": "2025-05-11T15:53:58.102178",
     "exception": false,
     "start_time": "2025-05-11T15:50:55.013507",
     "status": "completed"
    },
    "tags": []
   },
   "outputs": [
    {
     "name": "stdout",
     "output_type": "stream",
     "text": [
      "Acc@1: 0.6005 | Acc@5: 0.8347 | Acc@10: 0.8909 | Acc@20: 0.9308\n"
     ]
    }
   ],
   "source": [
    "acc1, acc5, acc10, acc20 = compute_topk_accuracy(model, tokenizer, val_df, top_k=20)\n",
    "print(f\"Acc@1: {acc1:.4f} | Acc@5: {acc5:.4f} | Acc@10: {acc10:.4f} | Acc@20: {acc20:.4f}\")"
   ]
  },
  {
   "cell_type": "code",
   "execution_count": 13,
   "id": "6026372f",
   "metadata": {
    "execution": {
     "iopub.execute_input": "2025-05-11T15:54:08.574629Z",
     "iopub.status.busy": "2025-05-11T15:54:08.574344Z",
     "iopub.status.idle": "2025-05-11T15:57:04.512074Z",
     "shell.execute_reply": "2025-05-11T15:57:04.511292Z"
    },
    "papermill": {
     "duration": 186.167214,
     "end_time": "2025-05-11T15:57:09.486208",
     "exception": false,
     "start_time": "2025-05-11T15:54:03.318994",
     "status": "completed"
    },
    "tags": []
   },
   "outputs": [
    {
     "name": "stderr",
     "output_type": "stream",
     "text": [
      "Some weights of the model checkpoint at xlm-roberta-base were not used when initializing XLMRobertaForMaskedLM: ['roberta.pooler.dense.bias', 'roberta.pooler.dense.weight']\n",
      "- This IS expected if you are initializing XLMRobertaForMaskedLM from the checkpoint of a model trained on another task or with another architecture (e.g. initializing a BertForSequenceClassification model from a BertForPreTraining model).\n",
      "- This IS NOT expected if you are initializing XLMRobertaForMaskedLM from the checkpoint of a model that you expect to be exactly identical (initializing a BertForSequenceClassification model from a BertForSequenceClassification model).\n"
     ]
    },
    {
     "data": {
      "text/plain": [
       "(0.5789371699849828,\n",
       " 0.8056484038172746,\n",
       " 0.8663953882672092,\n",
       " 0.9156130407402024)"
      ]
     },
     "execution_count": 13,
     "metadata": {},
     "output_type": "execute_result"
    }
   ],
   "source": [
    "tokenizer = AutoTokenizer.from_pretrained(\"xlm-roberta-base\")\n",
    "model = AutoModelForMaskedLM.from_pretrained(\"xlm-roberta-base\").to(device)\n",
    "compute_topk_accuracy(model, tokenizer,val_df, device=device)"
   ]
  },
  {
   "cell_type": "code",
   "execution_count": 14,
   "id": "4da51aa2",
   "metadata": {
    "execution": {
     "iopub.execute_input": "2025-05-11T15:57:19.860075Z",
     "iopub.status.busy": "2025-05-11T15:57:19.859769Z",
     "iopub.status.idle": "2025-05-11T15:57:19.869347Z",
     "shell.execute_reply": "2025-05-11T15:57:19.868811Z"
    },
    "papermill": {
     "duration": 5.167642,
     "end_time": "2025-05-11T15:57:19.870352",
     "exception": false,
     "start_time": "2025-05-11T15:57:14.702710",
     "status": "completed"
    },
    "tags": []
   },
   "outputs": [],
   "source": [
    "def compute_topk_accuracy_encoder_decoder(model, tokenizer, val_df, top_k=20, max_len=128, device='cuda'):\n",
    "    model.to(device)\n",
    "    model.eval()\n",
    "\n",
    "    acc1_total = acc5_total = acc10_total = acc20_total = total_tokens = 0\n",
    "\n",
    "    for _, row in tqdm(val_df.iterrows(), total=len(val_df), desc=\"Evaluating\"):\n",
    "        corrupted_tokens = row[\"corrupted\"].strip().split()\n",
    "        error_flags = list(map(int, list(row[\"mask\"].strip())))\n",
    "        ground_truth_tokens = row[\"ground_truth\"].strip().split()\n",
    "\n",
    "        # Check consistency\n",
    "        if len(corrupted_tokens) != len(error_flags) or len(ground_truth_tokens) != len(error_flags):\n",
    "            print(\"⚠️ Length mismatch at row, skipping...\")\n",
    "            continue\n",
    "\n",
    "        corrupted_tokens = [str(t) if t is not None else \"[UNK]\" for t in corrupted_tokens]\n",
    "        masked_tokens = [tokenizer.mask_token if flag else tok for tok, flag in zip(corrupted_tokens, error_flags)]\n",
    "        masked_text = \" \".join(masked_tokens)\n",
    "\n",
    "        inputs = tokenizer(masked_text, return_tensors=\"pt\", max_length=max_len,\n",
    "                           padding=\"max_length\", truncation=True).to(device)\n",
    "\n",
    "        with torch.no_grad():\n",
    "            outputs = model.generate(\n",
    "                input_ids=inputs[\"input_ids\"],\n",
    "                attention_mask=inputs[\"attention_mask\"],\n",
    "                max_length=max_len,\n",
    "                num_beams=top_k,\n",
    "                num_return_sequences=top_k,\n",
    "                early_stopping=True\n",
    "            )\n",
    "\n",
    "        predictions = [\n",
    "            tokenizer.decode(output, skip_special_tokens=True).strip().split()\n",
    "            for output in outputs\n",
    "        ]\n",
    "\n",
    "        for idx, flag in enumerate(error_flags):\n",
    "            if flag != 1:\n",
    "                continue\n",
    "\n",
    "            total_tokens += 1\n",
    "            gt_token = ground_truth_tokens[idx].lower()\n",
    "            topk_preds_at_idx = [pred[idx].lower() for pred in predictions if len(pred) > idx]\n",
    "\n",
    "            if not topk_preds_at_idx:\n",
    "                continue\n",
    "\n",
    "            acc1_total += int(gt_token == topk_preds_at_idx[0])\n",
    "            acc5_total += int(any(levenshtein_distance(gt_token, tok) <= 1 for tok in topk_preds_at_idx[:5]))\n",
    "            acc10_total += int(any(levenshtein_distance(gt_token, tok) <= 1 for tok in topk_preds_at_idx[:10]))\n",
    "            acc20_total += int(any(levenshtein_distance(gt_token, tok) <= 1 for tok in topk_preds_at_idx[:20]))\n",
    "\n",
    "    acc1 = acc1_total / total_tokens if total_tokens else 0\n",
    "    acc5 = acc5_total / total_tokens if total_tokens else 0\n",
    "    acc10 = acc10_total / total_tokens if total_tokens else 0\n",
    "    acc20 = acc20_total / total_tokens if total_tokens else 0\n",
    "\n",
    "    return acc1, acc5, acc10, acc20\n"
   ]
  },
  {
   "cell_type": "code",
   "execution_count": 15,
   "id": "f6cd33a6",
   "metadata": {
    "execution": {
     "iopub.execute_input": "2025-05-11T15:57:30.205081Z",
     "iopub.status.busy": "2025-05-11T15:57:30.204779Z",
     "iopub.status.idle": "2025-05-11T15:57:30.207922Z",
     "shell.execute_reply": "2025-05-11T15:57:30.207392Z"
    },
    "papermill": {
     "duration": 5.040565,
     "end_time": "2025-05-11T15:57:30.209033",
     "exception": false,
     "start_time": "2025-05-11T15:57:25.168468",
     "status": "completed"
    },
    "tags": []
   },
   "outputs": [],
   "source": [
    "# from transformers import AutoTokenizer, AutoModelForSeq2SeqLM\n",
    "# model_name = \"vinai/bartpho-syllable\"\n",
    "# tokenizer = AutoTokenizer.from_pretrained(model_name, use_fast=True)\n",
    "# model = AutoModelForSeq2SeqLM.from_pretrained(model_name).to(device)\n",
    "# compute_topk_accuracy_encoder_decoder(model, tokenizer,val_df, device=device)"
   ]
  },
  {
   "cell_type": "code",
   "execution_count": null,
   "id": "b14b84f9",
   "metadata": {
    "papermill": {
     "duration": 4.989116,
     "end_time": "2025-05-11T15:57:40.349675",
     "exception": false,
     "start_time": "2025-05-11T15:57:35.360559",
     "status": "completed"
    },
    "tags": []
   },
   "outputs": [],
   "source": []
  }
 ],
 "metadata": {
  "kaggle": {
   "accelerator": "gpu",
   "dataSources": [
    {
     "datasetId": 7104490,
     "sourceId": 11624352,
     "sourceType": "datasetVersion"
    }
   ],
   "dockerImageVersionId": 31011,
   "isGpuEnabled": true,
   "isInternetEnabled": true,
   "language": "python",
   "sourceType": "notebook"
  },
  "kernelspec": {
   "display_name": "Python 3",
   "language": "python",
   "name": "python3"
  },
  "language_info": {
   "codemirror_mode": {
    "name": "ipython",
    "version": 3
   },
   "file_extension": ".py",
   "mimetype": "text/x-python",
   "name": "python",
   "nbconvert_exporter": "python",
   "pygments_lexer": "ipython3",
   "version": "3.11.11"
  },
  "papermill": {
   "default_parameters": {},
   "duration": 20716.274626,
   "end_time": "2025-05-11T15:57:48.641641",
   "environment_variables": {},
   "exception": null,
   "input_path": "__notebook__.ipynb",
   "output_path": "__notebook__.ipynb",
   "parameters": {},
   "start_time": "2025-05-11T10:12:32.367015",
   "version": "2.6.0"
  },
  "widgets": {
   "application/vnd.jupyter.widget-state+json": {
    "state": {
     "0145b6630000488d8ee1b305d91290aa": {
      "model_module": "@jupyter-widgets/base",
      "model_module_version": "2.0.0",
      "model_name": "LayoutModel",
      "state": {
       "_model_module": "@jupyter-widgets/base",
       "_model_module_version": "2.0.0",
       "_model_name": "LayoutModel",
       "_view_count": null,
       "_view_module": "@jupyter-widgets/base",
       "_view_module_version": "2.0.0",
       "_view_name": "LayoutView",
       "align_content": null,
       "align_items": null,
       "align_self": null,
       "border_bottom": null,
       "border_left": null,
       "border_right": null,
       "border_top": null,
       "bottom": null,
       "display": null,
       "flex": null,
       "flex_flow": null,
       "grid_area": null,
       "grid_auto_columns": null,
       "grid_auto_flow": null,
       "grid_auto_rows": null,
       "grid_column": null,
       "grid_gap": null,
       "grid_row": null,
       "grid_template_areas": null,
       "grid_template_columns": null,
       "grid_template_rows": null,
       "height": null,
       "justify_content": null,
       "justify_items": null,
       "left": null,
       "margin": null,
       "max_height": null,
       "max_width": null,
       "min_height": null,
       "min_width": null,
       "object_fit": null,
       "object_position": null,
       "order": null,
       "overflow": null,
       "padding": null,
       "right": null,
       "top": null,
       "visibility": null,
       "width": null
      }
     },
     "06b25b22f2d949fca08a5ac60564214b": {
      "model_module": "@jupyter-widgets/base",
      "model_module_version": "2.0.0",
      "model_name": "LayoutModel",
      "state": {
       "_model_module": "@jupyter-widgets/base",
       "_model_module_version": "2.0.0",
       "_model_name": "LayoutModel",
       "_view_count": null,
       "_view_module": "@jupyter-widgets/base",
       "_view_module_version": "2.0.0",
       "_view_name": "LayoutView",
       "align_content": null,
       "align_items": null,
       "align_self": null,
       "border_bottom": null,
       "border_left": null,
       "border_right": null,
       "border_top": null,
       "bottom": null,
       "display": null,
       "flex": null,
       "flex_flow": null,
       "grid_area": null,
       "grid_auto_columns": null,
       "grid_auto_flow": null,
       "grid_auto_rows": null,
       "grid_column": null,
       "grid_gap": null,
       "grid_row": null,
       "grid_template_areas": null,
       "grid_template_columns": null,
       "grid_template_rows": null,
       "height": null,
       "justify_content": null,
       "justify_items": null,
       "left": null,
       "margin": null,
       "max_height": null,
       "max_width": null,
       "min_height": null,
       "min_width": null,
       "object_fit": null,
       "object_position": null,
       "order": null,
       "overflow": null,
       "padding": null,
       "right": null,
       "top": null,
       "visibility": null,
       "width": null
      }
     },
     "078b89c8b1314025ba2de10de661ca2c": {
      "model_module": "@jupyter-widgets/controls",
      "model_module_version": "2.0.0",
      "model_name": "ProgressStyleModel",
      "state": {
       "_model_module": "@jupyter-widgets/controls",
       "_model_module_version": "2.0.0",
       "_model_name": "ProgressStyleModel",
       "_view_count": null,
       "_view_module": "@jupyter-widgets/base",
       "_view_module_version": "2.0.0",
       "_view_name": "StyleView",
       "bar_color": null,
       "description_width": ""
      }
     },
     "095b872ac91e46d58cd7152ab570e0b9": {
      "model_module": "@jupyter-widgets/controls",
      "model_module_version": "2.0.0",
      "model_name": "HTMLStyleModel",
      "state": {
       "_model_module": "@jupyter-widgets/controls",
       "_model_module_version": "2.0.0",
       "_model_name": "HTMLStyleModel",
       "_view_count": null,
       "_view_module": "@jupyter-widgets/base",
       "_view_module_version": "2.0.0",
       "_view_name": "StyleView",
       "background": null,
       "description_width": "",
       "font_size": null,
       "text_color": null
      }
     },
     "124598f877c34b1888bb12879a5b0019": {
      "model_module": "@jupyter-widgets/controls",
      "model_module_version": "2.0.0",
      "model_name": "HTMLModel",
      "state": {
       "_dom_classes": [],
       "_model_module": "@jupyter-widgets/controls",
       "_model_module_version": "2.0.0",
       "_model_name": "HTMLModel",
       "_view_count": null,
       "_view_module": "@jupyter-widgets/controls",
       "_view_module_version": "2.0.0",
       "_view_name": "HTMLView",
       "description": "",
       "description_allow_html": false,
       "layout": "IPY_MODEL_06b25b22f2d949fca08a5ac60564214b",
       "placeholder": "​",
       "style": "IPY_MODEL_4ab32ddc0c3a4267b3920b56627b3dd4",
       "tabbable": null,
       "tooltip": null,
       "value": "tokenizer.json: 100%"
      }
     },
     "14fb1dbb0c554158a10e7fc83afd324d": {
      "model_module": "@jupyter-widgets/controls",
      "model_module_version": "2.0.0",
      "model_name": "HTMLStyleModel",
      "state": {
       "_model_module": "@jupyter-widgets/controls",
       "_model_module_version": "2.0.0",
       "_model_name": "HTMLStyleModel",
       "_view_count": null,
       "_view_module": "@jupyter-widgets/base",
       "_view_module_version": "2.0.0",
       "_view_name": "StyleView",
       "background": null,
       "description_width": "",
       "font_size": null,
       "text_color": null
      }
     },
     "179c24813c64472784a7adfe712dd8e1": {
      "model_module": "@jupyter-widgets/controls",
      "model_module_version": "2.0.0",
      "model_name": "ProgressStyleModel",
      "state": {
       "_model_module": "@jupyter-widgets/controls",
       "_model_module_version": "2.0.0",
       "_model_name": "ProgressStyleModel",
       "_view_count": null,
       "_view_module": "@jupyter-widgets/base",
       "_view_module_version": "2.0.0",
       "_view_name": "StyleView",
       "bar_color": null,
       "description_width": ""
      }
     },
     "186df664ee824f00a751d1879be86709": {
      "model_module": "@jupyter-widgets/base",
      "model_module_version": "2.0.0",
      "model_name": "LayoutModel",
      "state": {
       "_model_module": "@jupyter-widgets/base",
       "_model_module_version": "2.0.0",
       "_model_name": "LayoutModel",
       "_view_count": null,
       "_view_module": "@jupyter-widgets/base",
       "_view_module_version": "2.0.0",
       "_view_name": "LayoutView",
       "align_content": null,
       "align_items": null,
       "align_self": null,
       "border_bottom": null,
       "border_left": null,
       "border_right": null,
       "border_top": null,
       "bottom": null,
       "display": null,
       "flex": null,
       "flex_flow": null,
       "grid_area": null,
       "grid_auto_columns": null,
       "grid_auto_flow": null,
       "grid_auto_rows": null,
       "grid_column": null,
       "grid_gap": null,
       "grid_row": null,
       "grid_template_areas": null,
       "grid_template_columns": null,
       "grid_template_rows": null,
       "height": null,
       "justify_content": null,
       "justify_items": null,
       "left": null,
       "margin": null,
       "max_height": null,
       "max_width": null,
       "min_height": null,
       "min_width": null,
       "object_fit": null,
       "object_position": null,
       "order": null,
       "overflow": null,
       "padding": null,
       "right": null,
       "top": null,
       "visibility": null,
       "width": null
      }
     },
     "1c7d80dacd5a4865b0f94283cfc4709a": {
      "model_module": "@jupyter-widgets/base",
      "model_module_version": "2.0.0",
      "model_name": "LayoutModel",
      "state": {
       "_model_module": "@jupyter-widgets/base",
       "_model_module_version": "2.0.0",
       "_model_name": "LayoutModel",
       "_view_count": null,
       "_view_module": "@jupyter-widgets/base",
       "_view_module_version": "2.0.0",
       "_view_name": "LayoutView",
       "align_content": null,
       "align_items": null,
       "align_self": null,
       "border_bottom": null,
       "border_left": null,
       "border_right": null,
       "border_top": null,
       "bottom": null,
       "display": null,
       "flex": null,
       "flex_flow": null,
       "grid_area": null,
       "grid_auto_columns": null,
       "grid_auto_flow": null,
       "grid_auto_rows": null,
       "grid_column": null,
       "grid_gap": null,
       "grid_row": null,
       "grid_template_areas": null,
       "grid_template_columns": null,
       "grid_template_rows": null,
       "height": null,
       "justify_content": null,
       "justify_items": null,
       "left": null,
       "margin": null,
       "max_height": null,
       "max_width": null,
       "min_height": null,
       "min_width": null,
       "object_fit": null,
       "object_position": null,
       "order": null,
       "overflow": null,
       "padding": null,
       "right": null,
       "top": null,
       "visibility": null,
       "width": null
      }
     },
     "23d427adbb1b4622b129c7279cecd62d": {
      "model_module": "@jupyter-widgets/base",
      "model_module_version": "2.0.0",
      "model_name": "LayoutModel",
      "state": {
       "_model_module": "@jupyter-widgets/base",
       "_model_module_version": "2.0.0",
       "_model_name": "LayoutModel",
       "_view_count": null,
       "_view_module": "@jupyter-widgets/base",
       "_view_module_version": "2.0.0",
       "_view_name": "LayoutView",
       "align_content": null,
       "align_items": null,
       "align_self": null,
       "border_bottom": null,
       "border_left": null,
       "border_right": null,
       "border_top": null,
       "bottom": null,
       "display": null,
       "flex": null,
       "flex_flow": null,
       "grid_area": null,
       "grid_auto_columns": null,
       "grid_auto_flow": null,
       "grid_auto_rows": null,
       "grid_column": null,
       "grid_gap": null,
       "grid_row": null,
       "grid_template_areas": null,
       "grid_template_columns": null,
       "grid_template_rows": null,
       "height": null,
       "justify_content": null,
       "justify_items": null,
       "left": null,
       "margin": null,
       "max_height": null,
       "max_width": null,
       "min_height": null,
       "min_width": null,
       "object_fit": null,
       "object_position": null,
       "order": null,
       "overflow": null,
       "padding": null,
       "right": null,
       "top": null,
       "visibility": null,
       "width": null
      }
     },
     "23f73883dd374f868b8616b5efda7d4d": {
      "model_module": "@jupyter-widgets/controls",
      "model_module_version": "2.0.0",
      "model_name": "FloatProgressModel",
      "state": {
       "_dom_classes": [],
       "_model_module": "@jupyter-widgets/controls",
       "_model_module_version": "2.0.0",
       "_model_name": "FloatProgressModel",
       "_view_count": null,
       "_view_module": "@jupyter-widgets/controls",
       "_view_module_version": "2.0.0",
       "_view_name": "ProgressView",
       "bar_style": "success",
       "description": "",
       "description_allow_html": false,
       "layout": "IPY_MODEL_882fdf94aeec4448984a77a6c21e35e1",
       "max": 615.0,
       "min": 0.0,
       "orientation": "horizontal",
       "style": "IPY_MODEL_d504e82f65a64fe8a955243e47b7307d",
       "tabbable": null,
       "tooltip": null,
       "value": 615.0
      }
     },
     "247614b9514d4d10a97520d0345ff794": {
      "model_module": "@jupyter-widgets/base",
      "model_module_version": "2.0.0",
      "model_name": "LayoutModel",
      "state": {
       "_model_module": "@jupyter-widgets/base",
       "_model_module_version": "2.0.0",
       "_model_name": "LayoutModel",
       "_view_count": null,
       "_view_module": "@jupyter-widgets/base",
       "_view_module_version": "2.0.0",
       "_view_name": "LayoutView",
       "align_content": null,
       "align_items": null,
       "align_self": null,
       "border_bottom": null,
       "border_left": null,
       "border_right": null,
       "border_top": null,
       "bottom": null,
       "display": null,
       "flex": null,
       "flex_flow": null,
       "grid_area": null,
       "grid_auto_columns": null,
       "grid_auto_flow": null,
       "grid_auto_rows": null,
       "grid_column": null,
       "grid_gap": null,
       "grid_row": null,
       "grid_template_areas": null,
       "grid_template_columns": null,
       "grid_template_rows": null,
       "height": null,
       "justify_content": null,
       "justify_items": null,
       "left": null,
       "margin": null,
       "max_height": null,
       "max_width": null,
       "min_height": null,
       "min_width": null,
       "object_fit": null,
       "object_position": null,
       "order": null,
       "overflow": null,
       "padding": null,
       "right": null,
       "top": null,
       "visibility": null,
       "width": null
      }
     },
     "2e8034ef558f408fb712a690318d541f": {
      "model_module": "@jupyter-widgets/controls",
      "model_module_version": "2.0.0",
      "model_name": "HTMLStyleModel",
      "state": {
       "_model_module": "@jupyter-widgets/controls",
       "_model_module_version": "2.0.0",
       "_model_name": "HTMLStyleModel",
       "_view_count": null,
       "_view_module": "@jupyter-widgets/base",
       "_view_module_version": "2.0.0",
       "_view_name": "StyleView",
       "background": null,
       "description_width": "",
       "font_size": null,
       "text_color": null
      }
     },
     "2f10a4cd2ba04f79adabbc5f16b1805f": {
      "model_module": "@jupyter-widgets/base",
      "model_module_version": "2.0.0",
      "model_name": "LayoutModel",
      "state": {
       "_model_module": "@jupyter-widgets/base",
       "_model_module_version": "2.0.0",
       "_model_name": "LayoutModel",
       "_view_count": null,
       "_view_module": "@jupyter-widgets/base",
       "_view_module_version": "2.0.0",
       "_view_name": "LayoutView",
       "align_content": null,
       "align_items": null,
       "align_self": null,
       "border_bottom": null,
       "border_left": null,
       "border_right": null,
       "border_top": null,
       "bottom": null,
       "display": null,
       "flex": null,
       "flex_flow": null,
       "grid_area": null,
       "grid_auto_columns": null,
       "grid_auto_flow": null,
       "grid_auto_rows": null,
       "grid_column": null,
       "grid_gap": null,
       "grid_row": null,
       "grid_template_areas": null,
       "grid_template_columns": null,
       "grid_template_rows": null,
       "height": null,
       "justify_content": null,
       "justify_items": null,
       "left": null,
       "margin": null,
       "max_height": null,
       "max_width": null,
       "min_height": null,
       "min_width": null,
       "object_fit": null,
       "object_position": null,
       "order": null,
       "overflow": null,
       "padding": null,
       "right": null,
       "top": null,
       "visibility": null,
       "width": null
      }
     },
     "2fa9e4631de3478dbdb79b46ccea5ad1": {
      "model_module": "@jupyter-widgets/base",
      "model_module_version": "2.0.0",
      "model_name": "LayoutModel",
      "state": {
       "_model_module": "@jupyter-widgets/base",
       "_model_module_version": "2.0.0",
       "_model_name": "LayoutModel",
       "_view_count": null,
       "_view_module": "@jupyter-widgets/base",
       "_view_module_version": "2.0.0",
       "_view_name": "LayoutView",
       "align_content": null,
       "align_items": null,
       "align_self": null,
       "border_bottom": null,
       "border_left": null,
       "border_right": null,
       "border_top": null,
       "bottom": null,
       "display": null,
       "flex": null,
       "flex_flow": null,
       "grid_area": null,
       "grid_auto_columns": null,
       "grid_auto_flow": null,
       "grid_auto_rows": null,
       "grid_column": null,
       "grid_gap": null,
       "grid_row": null,
       "grid_template_areas": null,
       "grid_template_columns": null,
       "grid_template_rows": null,
       "height": null,
       "justify_content": null,
       "justify_items": null,
       "left": null,
       "margin": null,
       "max_height": null,
       "max_width": null,
       "min_height": null,
       "min_width": null,
       "object_fit": null,
       "object_position": null,
       "order": null,
       "overflow": null,
       "padding": null,
       "right": null,
       "top": null,
       "visibility": null,
       "width": null
      }
     },
     "33363b82b74442cf8afae0beb96b8ed3": {
      "model_module": "@jupyter-widgets/controls",
      "model_module_version": "2.0.0",
      "model_name": "ProgressStyleModel",
      "state": {
       "_model_module": "@jupyter-widgets/controls",
       "_model_module_version": "2.0.0",
       "_model_name": "ProgressStyleModel",
       "_view_count": null,
       "_view_module": "@jupyter-widgets/base",
       "_view_module_version": "2.0.0",
       "_view_name": "StyleView",
       "bar_color": null,
       "description_width": ""
      }
     },
     "3340bf36b08b43f585861dd046c6e9bf": {
      "model_module": "@jupyter-widgets/controls",
      "model_module_version": "2.0.0",
      "model_name": "HBoxModel",
      "state": {
       "_dom_classes": [],
       "_model_module": "@jupyter-widgets/controls",
       "_model_module_version": "2.0.0",
       "_model_name": "HBoxModel",
       "_view_count": null,
       "_view_module": "@jupyter-widgets/controls",
       "_view_module_version": "2.0.0",
       "_view_name": "HBoxView",
       "box_style": "",
       "children": [
        "IPY_MODEL_4390e2105bde44de8515d2ae8e68090b",
        "IPY_MODEL_61cced08cafb48bd8de821bd4aaddfd1",
        "IPY_MODEL_8fb49a3d7eb54837b492cf623facf6c7"
       ],
       "layout": "IPY_MODEL_3a374a494dff47a7932c29b80add206e",
       "tabbable": null,
       "tooltip": null
      }
     },
     "341e4cc56685459ab9effcb6890ce773": {
      "model_module": "@jupyter-widgets/base",
      "model_module_version": "2.0.0",
      "model_name": "LayoutModel",
      "state": {
       "_model_module": "@jupyter-widgets/base",
       "_model_module_version": "2.0.0",
       "_model_name": "LayoutModel",
       "_view_count": null,
       "_view_module": "@jupyter-widgets/base",
       "_view_module_version": "2.0.0",
       "_view_name": "LayoutView",
       "align_content": null,
       "align_items": null,
       "align_self": null,
       "border_bottom": null,
       "border_left": null,
       "border_right": null,
       "border_top": null,
       "bottom": null,
       "display": null,
       "flex": null,
       "flex_flow": null,
       "grid_area": null,
       "grid_auto_columns": null,
       "grid_auto_flow": null,
       "grid_auto_rows": null,
       "grid_column": null,
       "grid_gap": null,
       "grid_row": null,
       "grid_template_areas": null,
       "grid_template_columns": null,
       "grid_template_rows": null,
       "height": null,
       "justify_content": null,
       "justify_items": null,
       "left": null,
       "margin": null,
       "max_height": null,
       "max_width": null,
       "min_height": null,
       "min_width": null,
       "object_fit": null,
       "object_position": null,
       "order": null,
       "overflow": null,
       "padding": null,
       "right": null,
       "top": null,
       "visibility": null,
       "width": null
      }
     },
     "3a374a494dff47a7932c29b80add206e": {
      "model_module": "@jupyter-widgets/base",
      "model_module_version": "2.0.0",
      "model_name": "LayoutModel",
      "state": {
       "_model_module": "@jupyter-widgets/base",
       "_model_module_version": "2.0.0",
       "_model_name": "LayoutModel",
       "_view_count": null,
       "_view_module": "@jupyter-widgets/base",
       "_view_module_version": "2.0.0",
       "_view_name": "LayoutView",
       "align_content": null,
       "align_items": null,
       "align_self": null,
       "border_bottom": null,
       "border_left": null,
       "border_right": null,
       "border_top": null,
       "bottom": null,
       "display": null,
       "flex": null,
       "flex_flow": null,
       "grid_area": null,
       "grid_auto_columns": null,
       "grid_auto_flow": null,
       "grid_auto_rows": null,
       "grid_column": null,
       "grid_gap": null,
       "grid_row": null,
       "grid_template_areas": null,
       "grid_template_columns": null,
       "grid_template_rows": null,
       "height": null,
       "justify_content": null,
       "justify_items": null,
       "left": null,
       "margin": null,
       "max_height": null,
       "max_width": null,
       "min_height": null,
       "min_width": null,
       "object_fit": null,
       "object_position": null,
       "order": null,
       "overflow": null,
       "padding": null,
       "right": null,
       "top": null,
       "visibility": null,
       "width": null
      }
     },
     "4390e2105bde44de8515d2ae8e68090b": {
      "model_module": "@jupyter-widgets/controls",
      "model_module_version": "2.0.0",
      "model_name": "HTMLModel",
      "state": {
       "_dom_classes": [],
       "_model_module": "@jupyter-widgets/controls",
       "_model_module_version": "2.0.0",
       "_model_name": "HTMLModel",
       "_view_count": null,
       "_view_module": "@jupyter-widgets/controls",
       "_view_module_version": "2.0.0",
       "_view_name": "HTMLView",
       "description": "",
       "description_allow_html": false,
       "layout": "IPY_MODEL_eb1dbf18f9f2442284ef03eea18ae4ba",
       "placeholder": "​",
       "style": "IPY_MODEL_946729e0b6114f6b889af4ff370a94d7",
       "tabbable": null,
       "tooltip": null,
       "value": "sentencepiece.bpe.model: 100%"
      }
     },
     "43b02daf5bc64bb3b6f641a5de2a5468": {
      "model_module": "@jupyter-widgets/base",
      "model_module_version": "2.0.0",
      "model_name": "LayoutModel",
      "state": {
       "_model_module": "@jupyter-widgets/base",
       "_model_module_version": "2.0.0",
       "_model_name": "LayoutModel",
       "_view_count": null,
       "_view_module": "@jupyter-widgets/base",
       "_view_module_version": "2.0.0",
       "_view_name": "LayoutView",
       "align_content": null,
       "align_items": null,
       "align_self": null,
       "border_bottom": null,
       "border_left": null,
       "border_right": null,
       "border_top": null,
       "bottom": null,
       "display": null,
       "flex": null,
       "flex_flow": null,
       "grid_area": null,
       "grid_auto_columns": null,
       "grid_auto_flow": null,
       "grid_auto_rows": null,
       "grid_column": null,
       "grid_gap": null,
       "grid_row": null,
       "grid_template_areas": null,
       "grid_template_columns": null,
       "grid_template_rows": null,
       "height": null,
       "justify_content": null,
       "justify_items": null,
       "left": null,
       "margin": null,
       "max_height": null,
       "max_width": null,
       "min_height": null,
       "min_width": null,
       "object_fit": null,
       "object_position": null,
       "order": null,
       "overflow": null,
       "padding": null,
       "right": null,
       "top": null,
       "visibility": null,
       "width": null
      }
     },
     "480ccbc1260140178ac70856a46b09c0": {
      "model_module": "@jupyter-widgets/controls",
      "model_module_version": "2.0.0",
      "model_name": "HTMLStyleModel",
      "state": {
       "_model_module": "@jupyter-widgets/controls",
       "_model_module_version": "2.0.0",
       "_model_name": "HTMLStyleModel",
       "_view_count": null,
       "_view_module": "@jupyter-widgets/base",
       "_view_module_version": "2.0.0",
       "_view_name": "StyleView",
       "background": null,
       "description_width": "",
       "font_size": null,
       "text_color": null
      }
     },
     "4ab32ddc0c3a4267b3920b56627b3dd4": {
      "model_module": "@jupyter-widgets/controls",
      "model_module_version": "2.0.0",
      "model_name": "HTMLStyleModel",
      "state": {
       "_model_module": "@jupyter-widgets/controls",
       "_model_module_version": "2.0.0",
       "_model_name": "HTMLStyleModel",
       "_view_count": null,
       "_view_module": "@jupyter-widgets/base",
       "_view_module_version": "2.0.0",
       "_view_name": "StyleView",
       "background": null,
       "description_width": "",
       "font_size": null,
       "text_color": null
      }
     },
     "4aee218a171944a5a68b277407d5fe27": {
      "model_module": "@jupyter-widgets/base",
      "model_module_version": "2.0.0",
      "model_name": "LayoutModel",
      "state": {
       "_model_module": "@jupyter-widgets/base",
       "_model_module_version": "2.0.0",
       "_model_name": "LayoutModel",
       "_view_count": null,
       "_view_module": "@jupyter-widgets/base",
       "_view_module_version": "2.0.0",
       "_view_name": "LayoutView",
       "align_content": null,
       "align_items": null,
       "align_self": null,
       "border_bottom": null,
       "border_left": null,
       "border_right": null,
       "border_top": null,
       "bottom": null,
       "display": null,
       "flex": null,
       "flex_flow": null,
       "grid_area": null,
       "grid_auto_columns": null,
       "grid_auto_flow": null,
       "grid_auto_rows": null,
       "grid_column": null,
       "grid_gap": null,
       "grid_row": null,
       "grid_template_areas": null,
       "grid_template_columns": null,
       "grid_template_rows": null,
       "height": null,
       "justify_content": null,
       "justify_items": null,
       "left": null,
       "margin": null,
       "max_height": null,
       "max_width": null,
       "min_height": null,
       "min_width": null,
       "object_fit": null,
       "object_position": null,
       "order": null,
       "overflow": null,
       "padding": null,
       "right": null,
       "top": null,
       "visibility": null,
       "width": null
      }
     },
     "4d162e469d8b48b5a4cbe06a60631530": {
      "model_module": "@jupyter-widgets/controls",
      "model_module_version": "2.0.0",
      "model_name": "HTMLModel",
      "state": {
       "_dom_classes": [],
       "_model_module": "@jupyter-widgets/controls",
       "_model_module_version": "2.0.0",
       "_model_name": "HTMLModel",
       "_view_count": null,
       "_view_module": "@jupyter-widgets/controls",
       "_view_module_version": "2.0.0",
       "_view_name": "HTMLView",
       "description": "",
       "description_allow_html": false,
       "layout": "IPY_MODEL_247614b9514d4d10a97520d0345ff794",
       "placeholder": "​",
       "style": "IPY_MODEL_7639f7f1469d4436b8730ebb2fb0c7a9",
       "tabbable": null,
       "tooltip": null,
       "value": "config.json: 100%"
      }
     },
     "51000a6c733a437fbe83b774bfa0462d": {
      "model_module": "@jupyter-widgets/controls",
      "model_module_version": "2.0.0",
      "model_name": "HTMLModel",
      "state": {
       "_dom_classes": [],
       "_model_module": "@jupyter-widgets/controls",
       "_model_module_version": "2.0.0",
       "_model_name": "HTMLModel",
       "_view_count": null,
       "_view_module": "@jupyter-widgets/controls",
       "_view_module_version": "2.0.0",
       "_view_name": "HTMLView",
       "description": "",
       "description_allow_html": false,
       "layout": "IPY_MODEL_2f10a4cd2ba04f79adabbc5f16b1805f",
       "placeholder": "​",
       "style": "IPY_MODEL_480ccbc1260140178ac70856a46b09c0",
       "tabbable": null,
       "tooltip": null,
       "value": "tokenizer_config.json: 100%"
      }
     },
     "530eeb359a964e7b8e36c44628182a7f": {
      "model_module": "@jupyter-widgets/controls",
      "model_module_version": "2.0.0",
      "model_name": "FloatProgressModel",
      "state": {
       "_dom_classes": [],
       "_model_module": "@jupyter-widgets/controls",
       "_model_module_version": "2.0.0",
       "_model_name": "FloatProgressModel",
       "_view_count": null,
       "_view_module": "@jupyter-widgets/controls",
       "_view_module_version": "2.0.0",
       "_view_name": "ProgressView",
       "bar_style": "success",
       "description": "",
       "description_allow_html": false,
       "layout": "IPY_MODEL_cb56c5d4ffc44645a4da80adc0cdaa9c",
       "max": 25.0,
       "min": 0.0,
       "orientation": "horizontal",
       "style": "IPY_MODEL_078b89c8b1314025ba2de10de661ca2c",
       "tabbable": null,
       "tooltip": null,
       "value": 25.0
      }
     },
     "56461d4fabae4fada6d7f68f83e22e2c": {
      "model_module": "@jupyter-widgets/base",
      "model_module_version": "2.0.0",
      "model_name": "LayoutModel",
      "state": {
       "_model_module": "@jupyter-widgets/base",
       "_model_module_version": "2.0.0",
       "_model_name": "LayoutModel",
       "_view_count": null,
       "_view_module": "@jupyter-widgets/base",
       "_view_module_version": "2.0.0",
       "_view_name": "LayoutView",
       "align_content": null,
       "align_items": null,
       "align_self": null,
       "border_bottom": null,
       "border_left": null,
       "border_right": null,
       "border_top": null,
       "bottom": null,
       "display": null,
       "flex": null,
       "flex_flow": null,
       "grid_area": null,
       "grid_auto_columns": null,
       "grid_auto_flow": null,
       "grid_auto_rows": null,
       "grid_column": null,
       "grid_gap": null,
       "grid_row": null,
       "grid_template_areas": null,
       "grid_template_columns": null,
       "grid_template_rows": null,
       "height": null,
       "justify_content": null,
       "justify_items": null,
       "left": null,
       "margin": null,
       "max_height": null,
       "max_width": null,
       "min_height": null,
       "min_width": null,
       "object_fit": null,
       "object_position": null,
       "order": null,
       "overflow": null,
       "padding": null,
       "right": null,
       "top": null,
       "visibility": null,
       "width": null
      }
     },
     "5951736c572a40eca8eecc6f6052170b": {
      "model_module": "@jupyter-widgets/controls",
      "model_module_version": "2.0.0",
      "model_name": "HTMLStyleModel",
      "state": {
       "_model_module": "@jupyter-widgets/controls",
       "_model_module_version": "2.0.0",
       "_model_name": "HTMLStyleModel",
       "_view_count": null,
       "_view_module": "@jupyter-widgets/base",
       "_view_module_version": "2.0.0",
       "_view_name": "StyleView",
       "background": null,
       "description_width": "",
       "font_size": null,
       "text_color": null
      }
     },
     "5d90647129e24af38d025e92c96cdd6f": {
      "model_module": "@jupyter-widgets/controls",
      "model_module_version": "2.0.0",
      "model_name": "HBoxModel",
      "state": {
       "_dom_classes": [],
       "_model_module": "@jupyter-widgets/controls",
       "_model_module_version": "2.0.0",
       "_model_name": "HBoxModel",
       "_view_count": null,
       "_view_module": "@jupyter-widgets/controls",
       "_view_module_version": "2.0.0",
       "_view_name": "HBoxView",
       "box_style": "",
       "children": [
        "IPY_MODEL_124598f877c34b1888bb12879a5b0019",
        "IPY_MODEL_71735c480acf4151b9f01c6024073ac2",
        "IPY_MODEL_fd8856a978c24675a3331d47b115cb46"
       ],
       "layout": "IPY_MODEL_43b02daf5bc64bb3b6f641a5de2a5468",
       "tabbable": null,
       "tooltip": null
      }
     },
     "6054231f9eb54056a9dafa6340aa6712": {
      "model_module": "@jupyter-widgets/controls",
      "model_module_version": "2.0.0",
      "model_name": "HBoxModel",
      "state": {
       "_dom_classes": [],
       "_model_module": "@jupyter-widgets/controls",
       "_model_module_version": "2.0.0",
       "_model_name": "HBoxModel",
       "_view_count": null,
       "_view_module": "@jupyter-widgets/controls",
       "_view_module_version": "2.0.0",
       "_view_name": "HBoxView",
       "box_style": "",
       "children": [
        "IPY_MODEL_51000a6c733a437fbe83b774bfa0462d",
        "IPY_MODEL_530eeb359a964e7b8e36c44628182a7f",
        "IPY_MODEL_c720d66eb4e8431fa684d29bc3cba0c6"
       ],
       "layout": "IPY_MODEL_1c7d80dacd5a4865b0f94283cfc4709a",
       "tabbable": null,
       "tooltip": null
      }
     },
     "61cced08cafb48bd8de821bd4aaddfd1": {
      "model_module": "@jupyter-widgets/controls",
      "model_module_version": "2.0.0",
      "model_name": "FloatProgressModel",
      "state": {
       "_dom_classes": [],
       "_model_module": "@jupyter-widgets/controls",
       "_model_module_version": "2.0.0",
       "_model_name": "FloatProgressModel",
       "_view_count": null,
       "_view_module": "@jupyter-widgets/controls",
       "_view_module_version": "2.0.0",
       "_view_name": "ProgressView",
       "bar_style": "success",
       "description": "",
       "description_allow_html": false,
       "layout": "IPY_MODEL_65c77f6b645f48e2a35dc77b23db1390",
       "max": 5069051.0,
       "min": 0.0,
       "orientation": "horizontal",
       "style": "IPY_MODEL_c511802891cd410eb88dece370e21107",
       "tabbable": null,
       "tooltip": null,
       "value": 5069051.0
      }
     },
     "655d3eb40894467f908bf99e25ea01f4": {
      "model_module": "@jupyter-widgets/base",
      "model_module_version": "2.0.0",
      "model_name": "LayoutModel",
      "state": {
       "_model_module": "@jupyter-widgets/base",
       "_model_module_version": "2.0.0",
       "_model_name": "LayoutModel",
       "_view_count": null,
       "_view_module": "@jupyter-widgets/base",
       "_view_module_version": "2.0.0",
       "_view_name": "LayoutView",
       "align_content": null,
       "align_items": null,
       "align_self": null,
       "border_bottom": null,
       "border_left": null,
       "border_right": null,
       "border_top": null,
       "bottom": null,
       "display": null,
       "flex": null,
       "flex_flow": null,
       "grid_area": null,
       "grid_auto_columns": null,
       "grid_auto_flow": null,
       "grid_auto_rows": null,
       "grid_column": null,
       "grid_gap": null,
       "grid_row": null,
       "grid_template_areas": null,
       "grid_template_columns": null,
       "grid_template_rows": null,
       "height": null,
       "justify_content": null,
       "justify_items": null,
       "left": null,
       "margin": null,
       "max_height": null,
       "max_width": null,
       "min_height": null,
       "min_width": null,
       "object_fit": null,
       "object_position": null,
       "order": null,
       "overflow": null,
       "padding": null,
       "right": null,
       "top": null,
       "visibility": null,
       "width": null
      }
     },
     "65c77f6b645f48e2a35dc77b23db1390": {
      "model_module": "@jupyter-widgets/base",
      "model_module_version": "2.0.0",
      "model_name": "LayoutModel",
      "state": {
       "_model_module": "@jupyter-widgets/base",
       "_model_module_version": "2.0.0",
       "_model_name": "LayoutModel",
       "_view_count": null,
       "_view_module": "@jupyter-widgets/base",
       "_view_module_version": "2.0.0",
       "_view_name": "LayoutView",
       "align_content": null,
       "align_items": null,
       "align_self": null,
       "border_bottom": null,
       "border_left": null,
       "border_right": null,
       "border_top": null,
       "bottom": null,
       "display": null,
       "flex": null,
       "flex_flow": null,
       "grid_area": null,
       "grid_auto_columns": null,
       "grid_auto_flow": null,
       "grid_auto_rows": null,
       "grid_column": null,
       "grid_gap": null,
       "grid_row": null,
       "grid_template_areas": null,
       "grid_template_columns": null,
       "grid_template_rows": null,
       "height": null,
       "justify_content": null,
       "justify_items": null,
       "left": null,
       "margin": null,
       "max_height": null,
       "max_width": null,
       "min_height": null,
       "min_width": null,
       "object_fit": null,
       "object_position": null,
       "order": null,
       "overflow": null,
       "padding": null,
       "right": null,
       "top": null,
       "visibility": null,
       "width": null
      }
     },
     "6f4513d320bd45568d00793a5398cb71": {
      "model_module": "@jupyter-widgets/controls",
      "model_module_version": "2.0.0",
      "model_name": "HTMLStyleModel",
      "state": {
       "_model_module": "@jupyter-widgets/controls",
       "_model_module_version": "2.0.0",
       "_model_name": "HTMLStyleModel",
       "_view_count": null,
       "_view_module": "@jupyter-widgets/base",
       "_view_module_version": "2.0.0",
       "_view_name": "StyleView",
       "background": null,
       "description_width": "",
       "font_size": null,
       "text_color": null
      }
     },
     "71735c480acf4151b9f01c6024073ac2": {
      "model_module": "@jupyter-widgets/controls",
      "model_module_version": "2.0.0",
      "model_name": "FloatProgressModel",
      "state": {
       "_dom_classes": [],
       "_model_module": "@jupyter-widgets/controls",
       "_model_module_version": "2.0.0",
       "_model_name": "FloatProgressModel",
       "_view_count": null,
       "_view_module": "@jupyter-widgets/controls",
       "_view_module_version": "2.0.0",
       "_view_name": "ProgressView",
       "bar_style": "success",
       "description": "",
       "description_allow_html": false,
       "layout": "IPY_MODEL_2fa9e4631de3478dbdb79b46ccea5ad1",
       "max": 9096718.0,
       "min": 0.0,
       "orientation": "horizontal",
       "style": "IPY_MODEL_33363b82b74442cf8afae0beb96b8ed3",
       "tabbable": null,
       "tooltip": null,
       "value": 9096718.0
      }
     },
     "7639f7f1469d4436b8730ebb2fb0c7a9": {
      "model_module": "@jupyter-widgets/controls",
      "model_module_version": "2.0.0",
      "model_name": "HTMLStyleModel",
      "state": {
       "_model_module": "@jupyter-widgets/controls",
       "_model_module_version": "2.0.0",
       "_model_name": "HTMLStyleModel",
       "_view_count": null,
       "_view_module": "@jupyter-widgets/base",
       "_view_module_version": "2.0.0",
       "_view_name": "StyleView",
       "background": null,
       "description_width": "",
       "font_size": null,
       "text_color": null
      }
     },
     "85ee0bab9b00440bb438b1ee754c852c": {
      "model_module": "@jupyter-widgets/controls",
      "model_module_version": "2.0.0",
      "model_name": "HTMLModel",
      "state": {
       "_dom_classes": [],
       "_model_module": "@jupyter-widgets/controls",
       "_model_module_version": "2.0.0",
       "_model_name": "HTMLModel",
       "_view_count": null,
       "_view_module": "@jupyter-widgets/controls",
       "_view_module_version": "2.0.0",
       "_view_name": "HTMLView",
       "description": "",
       "description_allow_html": false,
       "layout": "IPY_MODEL_655d3eb40894467f908bf99e25ea01f4",
       "placeholder": "​",
       "style": "IPY_MODEL_5951736c572a40eca8eecc6f6052170b",
       "tabbable": null,
       "tooltip": null,
       "value": " 615/615 [00:00&lt;00:00, 76.4kB/s]"
      }
     },
     "882fdf94aeec4448984a77a6c21e35e1": {
      "model_module": "@jupyter-widgets/base",
      "model_module_version": "2.0.0",
      "model_name": "LayoutModel",
      "state": {
       "_model_module": "@jupyter-widgets/base",
       "_model_module_version": "2.0.0",
       "_model_name": "LayoutModel",
       "_view_count": null,
       "_view_module": "@jupyter-widgets/base",
       "_view_module_version": "2.0.0",
       "_view_name": "LayoutView",
       "align_content": null,
       "align_items": null,
       "align_self": null,
       "border_bottom": null,
       "border_left": null,
       "border_right": null,
       "border_top": null,
       "bottom": null,
       "display": null,
       "flex": null,
       "flex_flow": null,
       "grid_area": null,
       "grid_auto_columns": null,
       "grid_auto_flow": null,
       "grid_auto_rows": null,
       "grid_column": null,
       "grid_gap": null,
       "grid_row": null,
       "grid_template_areas": null,
       "grid_template_columns": null,
       "grid_template_rows": null,
       "height": null,
       "justify_content": null,
       "justify_items": null,
       "left": null,
       "margin": null,
       "max_height": null,
       "max_width": null,
       "min_height": null,
       "min_width": null,
       "object_fit": null,
       "object_position": null,
       "order": null,
       "overflow": null,
       "padding": null,
       "right": null,
       "top": null,
       "visibility": null,
       "width": null
      }
     },
     "8b888617c3ff4e34802cd65d21c98bc7": {
      "model_module": "@jupyter-widgets/base",
      "model_module_version": "2.0.0",
      "model_name": "LayoutModel",
      "state": {
       "_model_module": "@jupyter-widgets/base",
       "_model_module_version": "2.0.0",
       "_model_name": "LayoutModel",
       "_view_count": null,
       "_view_module": "@jupyter-widgets/base",
       "_view_module_version": "2.0.0",
       "_view_name": "LayoutView",
       "align_content": null,
       "align_items": null,
       "align_self": null,
       "border_bottom": null,
       "border_left": null,
       "border_right": null,
       "border_top": null,
       "bottom": null,
       "display": null,
       "flex": null,
       "flex_flow": null,
       "grid_area": null,
       "grid_auto_columns": null,
       "grid_auto_flow": null,
       "grid_auto_rows": null,
       "grid_column": null,
       "grid_gap": null,
       "grid_row": null,
       "grid_template_areas": null,
       "grid_template_columns": null,
       "grid_template_rows": null,
       "height": null,
       "justify_content": null,
       "justify_items": null,
       "left": null,
       "margin": null,
       "max_height": null,
       "max_width": null,
       "min_height": null,
       "min_width": null,
       "object_fit": null,
       "object_position": null,
       "order": null,
       "overflow": null,
       "padding": null,
       "right": null,
       "top": null,
       "visibility": null,
       "width": null
      }
     },
     "8fb49a3d7eb54837b492cf623facf6c7": {
      "model_module": "@jupyter-widgets/controls",
      "model_module_version": "2.0.0",
      "model_name": "HTMLModel",
      "state": {
       "_dom_classes": [],
       "_model_module": "@jupyter-widgets/controls",
       "_model_module_version": "2.0.0",
       "_model_name": "HTMLModel",
       "_view_count": null,
       "_view_module": "@jupyter-widgets/controls",
       "_view_module_version": "2.0.0",
       "_view_name": "HTMLView",
       "description": "",
       "description_allow_html": false,
       "layout": "IPY_MODEL_56461d4fabae4fada6d7f68f83e22e2c",
       "placeholder": "​",
       "style": "IPY_MODEL_b65c42523ddb450d9fc62498459de8fb",
       "tabbable": null,
       "tooltip": null,
       "value": " 5.07M/5.07M [00:00&lt;00:00, 16.0MB/s]"
      }
     },
     "920296c8fb67453ba7a608d58769d564": {
      "model_module": "@jupyter-widgets/controls",
      "model_module_version": "2.0.0",
      "model_name": "HBoxModel",
      "state": {
       "_dom_classes": [],
       "_model_module": "@jupyter-widgets/controls",
       "_model_module_version": "2.0.0",
       "_model_name": "HBoxModel",
       "_view_count": null,
       "_view_module": "@jupyter-widgets/controls",
       "_view_module_version": "2.0.0",
       "_view_name": "HBoxView",
       "box_style": "",
       "children": [
        "IPY_MODEL_4d162e469d8b48b5a4cbe06a60631530",
        "IPY_MODEL_23f73883dd374f868b8616b5efda7d4d",
        "IPY_MODEL_85ee0bab9b00440bb438b1ee754c852c"
       ],
       "layout": "IPY_MODEL_23d427adbb1b4622b129c7279cecd62d",
       "tabbable": null,
       "tooltip": null
      }
     },
     "946729e0b6114f6b889af4ff370a94d7": {
      "model_module": "@jupyter-widgets/controls",
      "model_module_version": "2.0.0",
      "model_name": "HTMLStyleModel",
      "state": {
       "_model_module": "@jupyter-widgets/controls",
       "_model_module_version": "2.0.0",
       "_model_name": "HTMLStyleModel",
       "_view_count": null,
       "_view_module": "@jupyter-widgets/base",
       "_view_module_version": "2.0.0",
       "_view_name": "StyleView",
       "background": null,
       "description_width": "",
       "font_size": null,
       "text_color": null
      }
     },
     "9d7a384aa2de46fa8aec6d44763afacc": {
      "model_module": "@jupyter-widgets/controls",
      "model_module_version": "2.0.0",
      "model_name": "HBoxModel",
      "state": {
       "_dom_classes": [],
       "_model_module": "@jupyter-widgets/controls",
       "_model_module_version": "2.0.0",
       "_model_name": "HBoxModel",
       "_view_count": null,
       "_view_module": "@jupyter-widgets/controls",
       "_view_module_version": "2.0.0",
       "_view_name": "HBoxView",
       "box_style": "",
       "children": [
        "IPY_MODEL_ad667a95723c459dbcc78df48c98d920",
        "IPY_MODEL_ec9a3f83c31245d6943f70e6a4877064",
        "IPY_MODEL_d33b563d89094bd4aa369e65e22d6894"
       ],
       "layout": "IPY_MODEL_4aee218a171944a5a68b277407d5fe27",
       "tabbable": null,
       "tooltip": null
      }
     },
     "ad667a95723c459dbcc78df48c98d920": {
      "model_module": "@jupyter-widgets/controls",
      "model_module_version": "2.0.0",
      "model_name": "HTMLModel",
      "state": {
       "_dom_classes": [],
       "_model_module": "@jupyter-widgets/controls",
       "_model_module_version": "2.0.0",
       "_model_name": "HTMLModel",
       "_view_count": null,
       "_view_module": "@jupyter-widgets/controls",
       "_view_module_version": "2.0.0",
       "_view_name": "HTMLView",
       "description": "",
       "description_allow_html": false,
       "layout": "IPY_MODEL_8b888617c3ff4e34802cd65d21c98bc7",
       "placeholder": "​",
       "style": "IPY_MODEL_2e8034ef558f408fb712a690318d541f",
       "tabbable": null,
       "tooltip": null,
       "value": "model.safetensors: 100%"
      }
     },
     "b65c42523ddb450d9fc62498459de8fb": {
      "model_module": "@jupyter-widgets/controls",
      "model_module_version": "2.0.0",
      "model_name": "HTMLStyleModel",
      "state": {
       "_model_module": "@jupyter-widgets/controls",
       "_model_module_version": "2.0.0",
       "_model_name": "HTMLStyleModel",
       "_view_count": null,
       "_view_module": "@jupyter-widgets/base",
       "_view_module_version": "2.0.0",
       "_view_name": "StyleView",
       "background": null,
       "description_width": "",
       "font_size": null,
       "text_color": null
      }
     },
     "c511802891cd410eb88dece370e21107": {
      "model_module": "@jupyter-widgets/controls",
      "model_module_version": "2.0.0",
      "model_name": "ProgressStyleModel",
      "state": {
       "_model_module": "@jupyter-widgets/controls",
       "_model_module_version": "2.0.0",
       "_model_name": "ProgressStyleModel",
       "_view_count": null,
       "_view_module": "@jupyter-widgets/base",
       "_view_module_version": "2.0.0",
       "_view_name": "StyleView",
       "bar_color": null,
       "description_width": ""
      }
     },
     "c720d66eb4e8431fa684d29bc3cba0c6": {
      "model_module": "@jupyter-widgets/controls",
      "model_module_version": "2.0.0",
      "model_name": "HTMLModel",
      "state": {
       "_dom_classes": [],
       "_model_module": "@jupyter-widgets/controls",
       "_model_module_version": "2.0.0",
       "_model_name": "HTMLModel",
       "_view_count": null,
       "_view_module": "@jupyter-widgets/controls",
       "_view_module_version": "2.0.0",
       "_view_name": "HTMLView",
       "description": "",
       "description_allow_html": false,
       "layout": "IPY_MODEL_186df664ee824f00a751d1879be86709",
       "placeholder": "​",
       "style": "IPY_MODEL_14fb1dbb0c554158a10e7fc83afd324d",
       "tabbable": null,
       "tooltip": null,
       "value": " 25.0/25.0 [00:00&lt;00:00, 3.35kB/s]"
      }
     },
     "cb56c5d4ffc44645a4da80adc0cdaa9c": {
      "model_module": "@jupyter-widgets/base",
      "model_module_version": "2.0.0",
      "model_name": "LayoutModel",
      "state": {
       "_model_module": "@jupyter-widgets/base",
       "_model_module_version": "2.0.0",
       "_model_name": "LayoutModel",
       "_view_count": null,
       "_view_module": "@jupyter-widgets/base",
       "_view_module_version": "2.0.0",
       "_view_name": "LayoutView",
       "align_content": null,
       "align_items": null,
       "align_self": null,
       "border_bottom": null,
       "border_left": null,
       "border_right": null,
       "border_top": null,
       "bottom": null,
       "display": null,
       "flex": null,
       "flex_flow": null,
       "grid_area": null,
       "grid_auto_columns": null,
       "grid_auto_flow": null,
       "grid_auto_rows": null,
       "grid_column": null,
       "grid_gap": null,
       "grid_row": null,
       "grid_template_areas": null,
       "grid_template_columns": null,
       "grid_template_rows": null,
       "height": null,
       "justify_content": null,
       "justify_items": null,
       "left": null,
       "margin": null,
       "max_height": null,
       "max_width": null,
       "min_height": null,
       "min_width": null,
       "object_fit": null,
       "object_position": null,
       "order": null,
       "overflow": null,
       "padding": null,
       "right": null,
       "top": null,
       "visibility": null,
       "width": null
      }
     },
     "d33b563d89094bd4aa369e65e22d6894": {
      "model_module": "@jupyter-widgets/controls",
      "model_module_version": "2.0.0",
      "model_name": "HTMLModel",
      "state": {
       "_dom_classes": [],
       "_model_module": "@jupyter-widgets/controls",
       "_model_module_version": "2.0.0",
       "_model_name": "HTMLModel",
       "_view_count": null,
       "_view_module": "@jupyter-widgets/controls",
       "_view_module_version": "2.0.0",
       "_view_name": "HTMLView",
       "description": "",
       "description_allow_html": false,
       "layout": "IPY_MODEL_341e4cc56685459ab9effcb6890ce773",
       "placeholder": "​",
       "style": "IPY_MODEL_6f4513d320bd45568d00793a5398cb71",
       "tabbable": null,
       "tooltip": null,
       "value": " 1.12G/1.12G [00:03&lt;00:00, 368MB/s]"
      }
     },
     "d39f97a5668947389be8b8bb7c4730d5": {
      "model_module": "@jupyter-widgets/base",
      "model_module_version": "2.0.0",
      "model_name": "LayoutModel",
      "state": {
       "_model_module": "@jupyter-widgets/base",
       "_model_module_version": "2.0.0",
       "_model_name": "LayoutModel",
       "_view_count": null,
       "_view_module": "@jupyter-widgets/base",
       "_view_module_version": "2.0.0",
       "_view_name": "LayoutView",
       "align_content": null,
       "align_items": null,
       "align_self": null,
       "border_bottom": null,
       "border_left": null,
       "border_right": null,
       "border_top": null,
       "bottom": null,
       "display": null,
       "flex": null,
       "flex_flow": null,
       "grid_area": null,
       "grid_auto_columns": null,
       "grid_auto_flow": null,
       "grid_auto_rows": null,
       "grid_column": null,
       "grid_gap": null,
       "grid_row": null,
       "grid_template_areas": null,
       "grid_template_columns": null,
       "grid_template_rows": null,
       "height": null,
       "justify_content": null,
       "justify_items": null,
       "left": null,
       "margin": null,
       "max_height": null,
       "max_width": null,
       "min_height": null,
       "min_width": null,
       "object_fit": null,
       "object_position": null,
       "order": null,
       "overflow": null,
       "padding": null,
       "right": null,
       "top": null,
       "visibility": null,
       "width": null
      }
     },
     "d504e82f65a64fe8a955243e47b7307d": {
      "model_module": "@jupyter-widgets/controls",
      "model_module_version": "2.0.0",
      "model_name": "ProgressStyleModel",
      "state": {
       "_model_module": "@jupyter-widgets/controls",
       "_model_module_version": "2.0.0",
       "_model_name": "ProgressStyleModel",
       "_view_count": null,
       "_view_module": "@jupyter-widgets/base",
       "_view_module_version": "2.0.0",
       "_view_name": "StyleView",
       "bar_color": null,
       "description_width": ""
      }
     },
     "eb1dbf18f9f2442284ef03eea18ae4ba": {
      "model_module": "@jupyter-widgets/base",
      "model_module_version": "2.0.0",
      "model_name": "LayoutModel",
      "state": {
       "_model_module": "@jupyter-widgets/base",
       "_model_module_version": "2.0.0",
       "_model_name": "LayoutModel",
       "_view_count": null,
       "_view_module": "@jupyter-widgets/base",
       "_view_module_version": "2.0.0",
       "_view_name": "LayoutView",
       "align_content": null,
       "align_items": null,
       "align_self": null,
       "border_bottom": null,
       "border_left": null,
       "border_right": null,
       "border_top": null,
       "bottom": null,
       "display": null,
       "flex": null,
       "flex_flow": null,
       "grid_area": null,
       "grid_auto_columns": null,
       "grid_auto_flow": null,
       "grid_auto_rows": null,
       "grid_column": null,
       "grid_gap": null,
       "grid_row": null,
       "grid_template_areas": null,
       "grid_template_columns": null,
       "grid_template_rows": null,
       "height": null,
       "justify_content": null,
       "justify_items": null,
       "left": null,
       "margin": null,
       "max_height": null,
       "max_width": null,
       "min_height": null,
       "min_width": null,
       "object_fit": null,
       "object_position": null,
       "order": null,
       "overflow": null,
       "padding": null,
       "right": null,
       "top": null,
       "visibility": null,
       "width": null
      }
     },
     "ec9a3f83c31245d6943f70e6a4877064": {
      "model_module": "@jupyter-widgets/controls",
      "model_module_version": "2.0.0",
      "model_name": "FloatProgressModel",
      "state": {
       "_dom_classes": [],
       "_model_module": "@jupyter-widgets/controls",
       "_model_module_version": "2.0.0",
       "_model_name": "FloatProgressModel",
       "_view_count": null,
       "_view_module": "@jupyter-widgets/controls",
       "_view_module_version": "2.0.0",
       "_view_name": "ProgressView",
       "bar_style": "success",
       "description": "",
       "description_allow_html": false,
       "layout": "IPY_MODEL_d39f97a5668947389be8b8bb7c4730d5",
       "max": 1115567652.0,
       "min": 0.0,
       "orientation": "horizontal",
       "style": "IPY_MODEL_179c24813c64472784a7adfe712dd8e1",
       "tabbable": null,
       "tooltip": null,
       "value": 1115567652.0
      }
     },
     "fd8856a978c24675a3331d47b115cb46": {
      "model_module": "@jupyter-widgets/controls",
      "model_module_version": "2.0.0",
      "model_name": "HTMLModel",
      "state": {
       "_dom_classes": [],
       "_model_module": "@jupyter-widgets/controls",
       "_model_module_version": "2.0.0",
       "_model_name": "HTMLModel",
       "_view_count": null,
       "_view_module": "@jupyter-widgets/controls",
       "_view_module_version": "2.0.0",
       "_view_name": "HTMLView",
       "description": "",
       "description_allow_html": false,
       "layout": "IPY_MODEL_0145b6630000488d8ee1b305d91290aa",
       "placeholder": "​",
       "style": "IPY_MODEL_095b872ac91e46d58cd7152ab570e0b9",
       "tabbable": null,
       "tooltip": null,
       "value": " 9.10M/9.10M [00:00&lt;00:00, 34.6MB/s]"
      }
     }
    },
    "version_major": 2,
    "version_minor": 0
   }
  }
 },
 "nbformat": 4,
 "nbformat_minor": 5
}
