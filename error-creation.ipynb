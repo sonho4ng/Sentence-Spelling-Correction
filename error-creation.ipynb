{
 "metadata": {
  "kernelspec": {
   "language": "python",
   "display_name": "Python 3",
   "name": "python3"
  },
  "language_info": {
   "name": "python",
   "version": "3.11.11",
   "mimetype": "text/x-python",
   "codemirror_mode": {
    "name": "ipython",
    "version": 3
   },
   "pygments_lexer": "ipython3",
   "nbconvert_exporter": "python",
   "file_extension": ".py"
  },
  "kaggle": {
   "accelerator": "none",
   "dataSources": [
    {
     "sourceType": "datasetVersion",
     "sourceId": 11624352,
     "datasetId": 7104490,
     "databundleVersionId": 12089294
    }
   ],
   "dockerImageVersionId": 31012,
   "isInternetEnabled": true,
   "language": "python",
   "sourceType": "notebook",
   "isGpuEnabled": false
  }
 },
 "nbformat_minor": 4,
 "nbformat": 4,
 "cells": [
  {
   "cell_type": "code",
   "source": "from datasets import load_dataset\n\nds = load_dataset(\"thanhdath/vietnamese-sentences\")\ntype(ds)",
   "metadata": {
    "_uuid": "8f2839f25d086af736a60e9eeb907d3b93b6e0e5",
    "_cell_guid": "b1076dfc-b9ad-4769-8c92-a6c4dae69d19",
    "trusted": true,
    "execution": {
     "iopub.status.busy": "2025-05-14T12:08:17.604767Z",
     "iopub.execute_input": "2025-05-14T12:08:17.605304Z",
     "iopub.status.idle": "2025-05-14T12:13:03.430979Z",
     "shell.execute_reply.started": "2025-05-14T12:08:17.605268Z",
     "shell.execute_reply": "2025-05-14T12:13:03.429695Z"
    }
   },
   "outputs": [
    {
     "output_type": "display_data",
     "data": {
      "text/plain": "sents_0.txt:   0%|          | 0.00/1.42G [00:00<?, ?B/s]",
      "application/vnd.jupyter.widget-view+json": {
       "version_major": 2,
       "version_minor": 0,
       "model_id": "0a79bf02f8de4c59823b04356d445bb5"
      }
     },
     "metadata": {}
    },
    {
     "output_type": "display_data",
     "data": {
      "text/plain": "sents_1.txt:   0%|          | 0.00/1.42G [00:00<?, ?B/s]",
      "application/vnd.jupyter.widget-view+json": {
       "version_major": 2,
       "version_minor": 0,
       "model_id": "5ae89312935045768e6423e6b1670032"
      }
     },
     "metadata": {}
    },
    {
     "output_type": "display_data",
     "data": {
      "text/plain": "sents_2.txt:   0%|          | 0.00/1.42G [00:00<?, ?B/s]",
      "application/vnd.jupyter.widget-view+json": {
       "version_major": 2,
       "version_minor": 0,
       "model_id": "ff784ac810184bbe8c983533c523b071"
      }
     },
     "metadata": {}
    },
    {
     "output_type": "display_data",
     "data": {
      "text/plain": "Generating train split:   0%|          | 0/24739612 [00:00<?, ? examples/s]",
      "application/vnd.jupyter.widget-view+json": {
       "version_major": 2,
       "version_minor": 0,
       "model_id": "1f9bf2283a224826a19707399d6aa20d"
      }
     },
     "metadata": {}
    },
    {
     "execution_count": 1,
     "output_type": "execute_result",
     "data": {
      "text/plain": "datasets.dataset_dict.DatasetDict"
     },
     "metadata": {}
    }
   ],
   "execution_count": 1
  },
  {
   "cell_type": "code",
   "source": "content = ds['train'][:]\ntype(content)",
   "metadata": {
    "trusted": true,
    "execution": {
     "iopub.status.busy": "2025-05-14T12:13:03.433605Z",
     "iopub.execute_input": "2025-05-14T12:13:03.434119Z",
     "iopub.status.idle": "2025-05-14T12:14:16.769692Z",
     "shell.execute_reply.started": "2025-05-14T12:13:03.434094Z",
     "shell.execute_reply": "2025-05-14T12:14:16.768513Z"
    }
   },
   "outputs": [
    {
     "execution_count": 2,
     "output_type": "execute_result",
     "data": {
      "text/plain": "dict"
     },
     "metadata": {}
    }
   ],
   "execution_count": 2
  },
  {
   "cell_type": "code",
   "source": "print(ds['train'][0])",
   "metadata": {
    "trusted": true,
    "execution": {
     "iopub.status.busy": "2025-05-14T12:14:16.770763Z",
     "iopub.execute_input": "2025-05-14T12:14:16.771128Z",
     "iopub.status.idle": "2025-05-14T12:14:16.777892Z",
     "shell.execute_reply.started": "2025-05-14T12:14:16.771096Z",
     "shell.execute_reply": "2025-05-14T12:14:16.776299Z"
    }
   },
   "outputs": [
    {
     "name": "stdout",
     "text": "{'text': 'Không có chuyện Bùi Tiến Dũng sẽ giải nghệ sớm vì chấn thương'}\n",
     "output_type": "stream"
    }
   ],
   "execution_count": 3
  },
  {
   "cell_type": "code",
   "source": "texts = ds['train']['text']",
   "metadata": {
    "trusted": true,
    "execution": {
     "iopub.status.busy": "2025-05-14T12:14:16.778958Z",
     "iopub.execute_input": "2025-05-14T12:14:16.779268Z",
     "iopub.status.idle": "2025-05-14T12:15:38.736109Z",
     "shell.execute_reply.started": "2025-05-14T12:14:16.779235Z",
     "shell.execute_reply": "2025-05-14T12:15:38.734700Z"
    }
   },
   "outputs": [],
   "execution_count": 4
  },
  {
   "cell_type": "code",
   "source": "content = texts",
   "metadata": {
    "trusted": true,
    "execution": {
     "iopub.status.busy": "2025-05-14T12:15:38.737450Z",
     "iopub.execute_input": "2025-05-14T12:15:38.737804Z",
     "iopub.status.idle": "2025-05-14T12:15:42.179398Z",
     "shell.execute_reply.started": "2025-05-14T12:15:38.737775Z",
     "shell.execute_reply": "2025-05-14T12:15:42.178104Z"
    }
   },
   "outputs": [],
   "execution_count": 5
  },
  {
   "cell_type": "code",
   "source": "print(type(content))\nlen(content)",
   "metadata": {
    "trusted": true,
    "execution": {
     "iopub.status.busy": "2025-05-14T12:15:42.180731Z",
     "iopub.execute_input": "2025-05-14T12:15:42.181098Z",
     "iopub.status.idle": "2025-05-14T12:15:42.202838Z",
     "shell.execute_reply.started": "2025-05-14T12:15:42.181073Z",
     "shell.execute_reply": "2025-05-14T12:15:42.201466Z"
    }
   },
   "outputs": [
    {
     "name": "stdout",
     "text": "<class 'list'>\n",
     "output_type": "stream"
    },
    {
     "execution_count": 6,
     "output_type": "execute_result",
     "data": {
      "text/plain": "24739612"
     },
     "metadata": {}
    }
   ],
   "execution_count": 6
  },
  {
   "cell_type": "code",
   "source": "content[0]",
   "metadata": {
    "trusted": true,
    "execution": {
     "iopub.status.busy": "2025-05-14T12:15:42.206692Z",
     "iopub.execute_input": "2025-05-14T12:15:42.207015Z",
     "iopub.status.idle": "2025-05-14T12:15:42.223580Z",
     "shell.execute_reply.started": "2025-05-14T12:15:42.206991Z",
     "shell.execute_reply": "2025-05-14T12:15:42.222438Z"
    }
   },
   "outputs": [
    {
     "execution_count": 7,
     "output_type": "execute_result",
     "data": {
      "text/plain": "'Không có chuyện Bùi Tiến Dũng sẽ giải nghệ sớm vì chấn thương'"
     },
     "metadata": {}
    }
   ],
   "execution_count": 7
  },
  {
   "cell_type": "code",
   "source": [
    "import re\n",
    "import string\n",
    "def is_number(s):\n",
    "    try:\n",
    "        float(s)\n",
    "        return True\n",
    "    except ValueError:\n",
    "        return False\n",
    "\n",
    "vn_dict = set()\n",
    "chunks = []\n",
    "list_len = []\n",
    "\n",
    "if content:\n",
    "    \n",
    "\n",
    "    for line in content:\n",
    "        line = line.strip()\n",
    "        if not line:\n",
    "            continue\n",
    "        \n",
    "        tokens = re.findall(r'\\w+|[^\\w\\s]', line)\n",
    "\n",
    "        clean_tokens = [\n",
    "            tk for tk in tokens\n",
    "            if tk not in string.punctuation and not is_number(tk)\n",
    "        ]\n",
    "\n",
    "        vn_dict.update(tk.lower() for tk in clean_tokens)\n",
    "\n",
    "        cleaned_line = ' '.join(clean_tokens)\n",
    "\n",
    "        token_count = len(clean_tokens)\n",
    "        if 15 <= token_count <= 50:\n",
    "            chunks.append(cleaned_line)\n",
    "            list_len.append(token_count)\n",
    "\n",
    "        if len(chunks) ==100000:\n",
    "            break\n",
    "\n",
    "# === 3. In kết quả ===\n",
    "\n",
    "print(f\"Total vietnamese vocab: {len(vn_dict)} từ\")\n",
    "print(f\"Total sentences satisfy length (15,50): {len(chunks)} sentences\")"
   ],
   "metadata": {
    "trusted": true,
    "execution": {
     "iopub.status.busy": "2025-05-14T12:15:42.224973Z",
     "iopub.execute_input": "2025-05-14T12:15:42.225281Z",
     "iopub.status.idle": "2025-05-14T12:15:51.722912Z",
     "shell.execute_reply.started": "2025-05-14T12:15:42.225255Z",
     "shell.execute_reply": "2025-05-14T12:15:51.721682Z"
    }
   },
   "outputs": [
    {
     "name": "stdout",
     "text": "Total vietnamese vocab: 28878 từ\nTotal sentences satisfy length (15,50): 100000 sentences\n",
     "output_type": "stream"
    }
   ],
   "execution_count": 8
  },
  {
   "cell_type": "code",
   "source": "import json\n\nwith open(\"vn_dict.json\", \"w\", encoding=\"utf-8\") as f:\n    json.dump(sorted(list(vn_dict)), f, ensure_ascii=False, indent=2)\n",
   "metadata": {
    "trusted": true,
    "execution": {
     "iopub.status.busy": "2025-05-14T12:15:51.724240Z",
     "iopub.execute_input": "2025-05-14T12:15:51.724696Z",
     "iopub.status.idle": "2025-05-14T12:15:51.772056Z",
     "shell.execute_reply.started": "2025-05-14T12:15:51.724665Z",
     "shell.execute_reply": "2025-05-14T12:15:51.770724Z"
    }
   },
   "outputs": [],
   "execution_count": 9
  },
  {
   "cell_type": "code",
   "source": "import matplotlib.pyplot as plt\n\n# Plot histogram\nplt.figure(figsize=(8, 5))\nplt.hist(list_len, bins=20, edgecolor='black')\n\nplt.title('Distribution of Chunk Lengths (Number of Words)')\nplt.xlabel('Number of Words per Chunk')\nplt.ylabel('Number of Chunks')\nplt.grid(True)\nplt.show()\n",
   "metadata": {
    "trusted": true,
    "execution": {
     "iopub.status.busy": "2025-05-14T12:15:51.773809Z",
     "iopub.execute_input": "2025-05-14T12:15:51.774202Z",
     "iopub.status.idle": "2025-05-14T12:15:53.251165Z",
     "shell.execute_reply.started": "2025-05-14T12:15:51.774169Z",
     "shell.execute_reply": "2025-05-14T12:15:53.249771Z"
    }
   },
   "outputs": [
    {
     "output_type": "display_data",
     "data": {
      "text/plain": "<Figure size 800x500 with 1 Axes>",
      "image/png": "[encoded data removed]"
     },
     "metadata": {}
    }
   ],
   "execution_count": 10
  },
  {
   "cell_type": "code",
   "source": "import random\nimport string\n\n# 1. \ndef replace_char_in_word(sentence, rate):\n    words = sentence.split()\n    idx_error = []\n    for i in range(len(words)):\n        word = words[i]\n        if random.random() < rate and len(word) > 0:\n            idx = random.randint(0, len(word)-1)\n            new_char = random.choice(string.ascii_letters)\n            words[i] = word[:idx] + new_char + word[idx+1:]\n            idx_error.append(i)\n    return ' '.join(words), idx_error\n\n# 2. \ndef upper_case_word(sentence, rate):\n    words = sentence.split()\n    idx_error = []\n    for i in range(len(words)):\n        if random.random() < rate:\n            words[i] = words[i].upper()\n            idx_error.append(i)\n    return ' '.join(words), idx_error\n\n# 3.\ndef insert_char_in_word(sentence, rate):\n    words = sentence.split()\n    idx_error = []\n    for i in range(len(words)):\n        word = words[i]\n        if random.random() < rate:\n            idx = random.randint(0, len(word))  # insert trước/sau\n            insert_char = random.choice(string.ascii_letters)\n            words[i] = word[:idx] + insert_char + word[idx:]\n            idx_error.append(i)\n    return ' '.join(words), idx_error\n\n# 4. \ndef delete_char_in_word(sentence, rate):\n    words = sentence.split()\n    idx_error = []\n    for i in range(len(words)):\n        word = words[i]\n        if random.random() < rate and len(word) > 1:\n            idx = random.randint(0, len(word)-1)\n            words[i] = word[:idx] + word[idx+1:]\n            idx_error.append(i)\n    return ' '.join(words), idx_error\n\n# 5. \ndef swap_char_in_word(sentence, rate):\n    words = sentence.split()\n    idx_error = []\n    for i in range(len(words)):\n        word = words[i]\n        if random.random() < rate and len(word) > 1:\n            idx1, idx2 = random.sample(range(len(word)), 2)\n            word = list(word)\n            word[idx1], word[idx2] = word[idx2], word[idx1]\n            words[i] = ''.join(word)\n            idx_error.append(i)\n    return ' '.join(words), idx_error\n",
   "metadata": {
    "trusted": true,
    "execution": {
     "iopub.status.busy": "2025-05-14T12:15:53.252137Z",
     "iopub.execute_input": "2025-05-14T12:15:53.252466Z",
     "iopub.status.idle": "2025-05-14T12:15:53.266601Z",
     "shell.execute_reply.started": "2025-05-14T12:15:53.252443Z",
     "shell.execute_reply": "2025-05-14T12:15:53.265324Z"
    }
   },
   "outputs": [],
   "execution_count": 11
  },
  {
   "cell_type": "code",
   "source": [
    "import pandas as pd\n",
    "import re\n",
    "from tqdm import tqdm\n",
    "\n",
    "def create_error_dataset(\n",
    "    sentences,\n",
    "    error_rate=0.01,\n",
    "    error_module=None,\n",
    "    num_sentences=5000,\n",
    "    output_csv=\"output.csv\"\n",
    "):\n",
    "    data = {\n",
    "        'ground_truth': [],\n",
    "        'corrupted': [],\n",
    "        'mask': []\n",
    "    }\n",
    "\n",
    "    counter = 0\n",
    "    for line in tqdm(sentences):\n",
    "        if counter >= num_sentences:\n",
    "            break\n",
    "\n",
    "        line = line.strip()\n",
    "        if not line:\n",
    "            continue\n",
    "\n",
    "        tokens = re.findall(r'\\w+|[^\\w\\s]', line)\n",
    "        line_clean = \" \".join(tokens)\n",
    "\n",
    "        if '. ' in line_clean:\n",
    "            continue\n",
    "\n",
    "        corrupted_line = line_clean\n",
    "        word_level_errors = set()  \n",
    "\n",
    "        for func in error_module:\n",
    "            corrupted_line, idx_err = func(corrupted_line, error_rate)\n",
    "            word_level_errors.update(idx_err)\n",
    "\n",
    "        clean_words = line_clean.split()\n",
    "        corrupted_words = corrupted_line.split()\n",
    "\n",
    "        if len(clean_words) != len(corrupted_words):\n",
    "            continue\n",
    "\n",
    "        mask = [0] * len(corrupted_words)\n",
    "        for idx in word_level_errors:\n",
    "            if 0 <= idx < len(mask):\n",
    "                mask[idx] = 1\n",
    "\n",
    "        data['ground_truth'].append(line_clean)\n",
    "        data['corrupted'].append(corrupted_line)\n",
    "        data['mask'].append(''.join(map(str, mask)))\n",
    "\n",
    "        counter += 1\n",
    "\n",
    "    df = pd.DataFrame(data)\n",
    "    df.to_csv(output_csv, index=False, encoding='utf-8-sig')\n",
    "    print(f\"✅ Đã lưu {len(df)} câu vào {output_csv}\")\n"
   ],
   "metadata": {
    "trusted": true,
    "execution": {
     "iopub.status.busy": "2025-05-14T12:15:53.267583Z",
     "iopub.execute_input": "2025-05-14T12:15:53.267942Z",
     "iopub.status.idle": "2025-05-14T12:15:53.291449Z",
     "shell.execute_reply.started": "2025-05-14T12:15:53.267911Z",
     "shell.execute_reply": "2025-05-14T12:15:53.290408Z"
    }
   },
   "outputs": [],
   "execution_count": 12
  },
  {
   "cell_type": "code",
   "source": "\nerror_functions = [\n    replace_char_in_word,\n    upper_case_word,\n    insert_char_in_word,\n    delete_char_in_word,\n    swap_char_in_word\n]\n\n\ncreate_error_dataset(\n    chunks,\n    error_rate=0.015,        \n    error_module=error_functions,\n    num_sentences=100000,\n    output_csv=\"error_dataset.csv\"\n)\n",
   "metadata": {
    "trusted": true,
    "execution": {
     "iopub.status.busy": "2025-05-14T12:15:53.292550Z",
     "iopub.execute_input": "2025-05-14T12:15:53.293531Z",
     "iopub.status.idle": "2025-05-14T12:16:00.995884Z",
     "shell.execute_reply.started": "2025-05-14T12:15:53.293500Z",
     "shell.execute_reply": "2025-05-14T12:16:00.994734Z"
    }
   },
   "outputs": [
    {
     "name": "stderr",
     "text": "100%|██████████| 100000/100000 [00:06<00:00, 15579.01it/s]\n",
     "output_type": "stream"
    },
    {
     "name": "stdout",
     "text": "✅ Đã lưu 100000 câu vào error_dataset.csv\n",
     "output_type": "stream"
    }
   ],
   "execution_count": 13
  },
  {
   "cell_type": "code",
   "source": "",
   "metadata": {
    "trusted": true
   },
   "outputs": [],
   "execution_count": null
  }
 ]
}
